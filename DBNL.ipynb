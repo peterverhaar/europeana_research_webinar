{
 "cells": [
  {
   "cell_type": "code",
   "execution_count": 1,
   "id": "427f8298",
   "metadata": {},
   "outputs": [],
   "source": [
    "from europeana_sparql import *\n",
    "from text_mining import *\n",
    "\n",
    "import requests\n",
    "import requests\n",
    "import os\n",
    "import re\n",
    "import string\n",
    "from nltk import word_tokenize,sent_tokenize\n",
    "from nltk.corpus import stopwords\n",
    "\n",
    "import pandas as pd\n",
    "import seaborn as sns\n",
    "import matplotlib.pyplot as plt\n",
    "\n",
    "from collections import Counter"
   ]
  },
  {
   "cell_type": "markdown",
   "id": "b75a6861",
   "metadata": {},
   "source": [
    "How many objects from the DBNL can we find in Europeana?"
   ]
  },
  {
   "cell_type": "code",
   "execution_count": 5,
   "id": "e59d4971",
   "metadata": {},
   "outputs": [
    {
     "name": "stdout",
     "output_type": "stream",
     "text": [
      "There are 17043 items in the DBNL collection.\n"
     ]
    }
   ],
   "source": [
    "institution = 'Digitale bibliotheek voor de Nederlandse letteren, DBNL, Nederland'\n",
    "\n",
    "query = \"\"\"\n",
    "PREFIX dc: <http://purl.org/dc/elements/1.1/>\n",
    "PREFIX edm: <http://www.europeana.eu/schemas/edm/>\n",
    "PREFIX ore: <http://www.openarchives.org/ore/terms/>\n",
    "PREFIX html: <http://www.w3.org/1999/xhtml/vocab#>\n",
    "\n",
    "SELECT COUNT( DISTINCT ?object )\n",
    "WHERE {\n",
    "\n",
    "?object ore:proxyIn ?local_aggr .\n",
    "?object ore:proxyFor ?cho .\n",
    "?eur_aggr edm:aggregatedCHO ?cho .\n",
    "?eur_aggr a edm:EuropeanaAggregation .\n",
    "\n",
    "?local_aggr edm:provider ?glam .\n",
    "\n",
    "?local_aggr edm:dataProvider '\"\"\"+institution+\"\"\"' .\n",
    "}\n",
    "\"\"\"\n",
    "\n",
    "df = run_query(query)\n",
    "print( f\"There are {df['callret-0.value'].iloc[0]} items in the DBNL collection.\" )"
   ]
  },
  {
   "cell_type": "markdown",
   "id": "44f64fc6",
   "metadata": {},
   "source": [
    "What are the content types of the objects from the DBNL?"
   ]
  },
  {
   "cell_type": "code",
   "execution_count": 3,
   "id": "3d49cac1",
   "metadata": {},
   "outputs": [
    {
     "name": "stdout",
     "output_type": "stream",
     "text": [
      "TEXT\t16949\n",
      "VIDEO\t78\n",
      "SOUND\t16\n"
     ]
    }
   ],
   "source": [
    "\n",
    "query = \"\"\"\n",
    "PREFIX dc: <http://purl.org/dc/elements/1.1/>\n",
    "PREFIX edm: <http://www.europeana.eu/schemas/edm/>\n",
    "PREFIX ore: <http://www.openarchives.org/ore/terms/>\n",
    "PREFIX html: <http://www.w3.org/1999/xhtml/vocab#>\n",
    "\n",
    "SELECT ?type , COUNT(?type)\n",
    "WHERE {\n",
    "\n",
    "?object ore:proxyFor ?cho .\n",
    "?eur_aggr edm:aggregatedCHO ?cho .\n",
    "?eur_aggr a edm:EuropeanaAggregation .\n",
    "\n",
    "?object ore:proxyIn ?local_aggr .\n",
    "?local_aggr edm:dataProvider 'Digitale bibliotheek voor de Nederlandse letteren, DBNL, Nederland' .\n",
    "\n",
    "?object edm:type ?type .\n",
    "\n",
    "}\n",
    "GROUP BY ?type\n",
    "\"\"\"\n",
    "\n",
    "types = run_query(query)\n",
    "\n",
    "\n",
    "for i,row in types.iterrows():\n",
    "    print(f\"{row['type.value']}\\t{row['callret-1.value']}\")"
   ]
  },
  {
   "cell_type": "markdown",
   "id": "8a792d6a",
   "metadata": {},
   "source": [
    "Which metadata is available for these objects?"
   ]
  },
  {
   "cell_type": "code",
   "execution_count": 35,
   "id": "d4489cd9",
   "metadata": {},
   "outputs": [],
   "source": [
    "\n",
    "query = \"\"\"\n",
    "PREFIX dc: <http://purl.org/dc/elements/1.1/>\n",
    "PREFIX edm: <http://www.europeana.eu/schemas/edm/>\n",
    "PREFIX ore: <http://www.openarchives.org/ore/terms/>\n",
    "PREFIX html: <http://www.w3.org/1999/xhtml/vocab#>\n",
    "\n",
    "SELECT ?predicate ?object\n",
    "WHERE {\n",
    "<http://data.europeana.eu/proxy/provider/2021602/33AD47F261E191383316211C879B87A182DEDD70> ?predicate ?object . \n",
    "}\n",
    "\n",
    "\"\"\"\n",
    "\n",
    "metadata = run_query(query)\n"
   ]
  },
  {
   "cell_type": "code",
   "execution_count": 36,
   "id": "a63ab166",
   "metadata": {},
   "outputs": [
    {
     "name": "stdout",
     "output_type": "stream",
     "text": [
      "rdf:type\n",
      "http://www.openarchives.org/ore/terms/Proxy\n",
      "\n",
      "dcterms:created\n",
      "1889\n",
      "\n",
      "ore:proxyFor\n",
      "http://data.europeana.eu/item/2021602/33AD47F261E191383316211C879B87A182DEDD70\n",
      "\n",
      "dc:contributor\n",
      "Couperus, Louis\n",
      "\n",
      "dc:creator\n",
      "Couperus, Louis\n",
      "\n",
      "dc:date\n",
      "2009-07-16\n",
      "\n",
      "dc:identifier\n",
      "coup002elin01\n",
      "\n",
      "dc:identifier\n",
      "http://www.dbnl.org/titels/titel.php?id=coup002elin01\n",
      "\n",
      "dc:language\n",
      "nld\n",
      "\n",
      "dc:rights\n",
      "© dbnl\n",
      "\n",
      "dc:title\n",
      "Eline Vere\n",
      "\n",
      "dcterms:issued\n",
      "2009-07-16\n",
      "\n",
      "edm:europeanaProxy\n",
      "false\n",
      "\n",
      "edm:type\n",
      "TEXT\n",
      "\n",
      "ore:proxyIn\n",
      "http://data.europeana.eu/aggregation/provider/2021602/33AD47F261E191383316211C879B87A182DEDD70\n",
      "\n"
     ]
    }
   ],
   "source": [
    "\n",
    "ns = {\n",
    "'dc:':'http://purl.org/dc/elements/1.1/',\n",
    "'dcterms:':'http://purl.org/dc/terms/',\n",
    "'edm:':'http://www.europeana.eu/schemas/edm/',\n",
    "'ore:':'http://www.openarchives.org/ore/terms/',\n",
    "'html:':'http://www.w3.org/1999/xhtml/vocab#',\n",
    "'skos:':'http://www.w3.org/2004/02/skos/core#',  \n",
    "'rdf:':'http://www.w3.org/1999/02/22-rdf-syntax-ns#'\n",
    "}\n",
    "\n",
    "for i,row in metadata.iterrows():\n",
    "    predicate = row['predicate.value']\n",
    "    for url in ns:\n",
    "         predicate = re.sub(ns[url],url,predicate)\n",
    "    \n",
    "    print(f\"{predicate}\\n{row['object.value']}\\n\")"
   ]
  },
  {
   "cell_type": "markdown",
   "id": "256b660d",
   "metadata": {},
   "source": [
    "Which texts by Louis Couperus can be found in the DBNL collection?"
   ]
  },
  {
   "cell_type": "code",
   "execution_count": 18,
   "id": "c3526520",
   "metadata": {},
   "outputs": [
    {
     "name": "stdout",
     "output_type": "stream",
     "text": [
      "There are 78 titles by Louis Couperus.\n"
     ]
    }
   ],
   "source": [
    "query = \"\"\"\n",
    "PREFIX dc: <http://purl.org/dc/elements/1.1/>\n",
    "PREFIX edm: <http://www.europeana.eu/schemas/edm/>\n",
    "PREFIX ore: <http://www.openarchives.org/ore/terms/>\n",
    "PREFIX html: <http://www.w3.org/1999/xhtml/vocab#>\n",
    "PREFIX skos: <http://www.w3.org/2004/02/skos/core#>\n",
    "\n",
    "SELECT *\n",
    "WHERE {\n",
    "\n",
    "?object ore:proxyIn ?local_aggr .\n",
    "?object ore:proxyFor ?cho .\n",
    "?eur_aggr edm:aggregatedCHO ?cho .\n",
    "?eur_aggr a edm:EuropeanaAggregation .\n",
    "\n",
    "?local_aggr edm:dataProvider '\"\"\"+institution+\"\"\"' .\n",
    "\n",
    "?object dc:title ?title .\n",
    "?object edm:type 'TEXT' .\n",
    "?object dcterms:created ?date . \n",
    "?object dc:creator 'Couperus, Louis' .\n",
    "?object dc:identifier ?id .\n",
    "\n",
    "?object ore:proxyIn ?local_aggr .\n",
    "\n",
    "}\n",
    "\n",
    "ORDER BY ASC(?object)\n",
    "\"\"\"\n",
    "\n",
    "couperus =run_query(query) \n",
    "\n",
    "print( f'There are {couperus.drop_duplicates(subset=\"object.value\", keep=\"last\").shape[0]} titles by Louis Couperus.')"
   ]
  },
  {
   "cell_type": "code",
   "execution_count": 19,
   "id": "f44ca9a6",
   "metadata": {},
   "outputs": [
    {
     "name": "stdout",
     "output_type": "stream",
     "text": [
      "Eline Vere (1889)\n",
      "http://data.europeana.eu/proxy/provider/2021602/33AD47F261E191383316211C879B87A182DEDD70\n",
      "\n",
      "Noodlot (1891)\n",
      "http://data.europeana.eu/proxy/provider/2021602/8FC51446390C3D80B9A2B43C9346C2D9C5C33AC5\n",
      "\n",
      "Extaze. Een boek van geluk (1892)\n",
      "http://data.europeana.eu/proxy/provider/2021602/1B603DCEB299BADEE7E4DEBBDBF47AA11DFCF39C\n",
      "\n",
      "Majesteit (1893)\n",
      "http://data.europeana.eu/proxy/provider/2021602/B00183CC93B156930D1B496B52F0DD79D43D9649\n",
      "\n",
      "Reis-impressies (1894)\n",
      "http://data.europeana.eu/proxy/provider/2021602/6C9C0848A5B4B95D50ACBB8BAF95A914EEA3A3B8\n",
      "\n",
      "Williswinde (1895)\n",
      "http://data.europeana.eu/proxy/provider/2021602/98DAEB1ECCBDF89E150129A7953FDE8178A6A362\n",
      "\n",
      "Wereldvrede (1895)\n",
      "http://data.europeana.eu/proxy/provider/2021602/ADC739F26BE3171469C124EE47C5483A4FCDAE8D\n",
      "\n",
      "De verzoeking van den H. Antonius (1896)\n",
      "http://data.europeana.eu/proxy/provider/2021602/17F29134B883942D8E0F919030850B5BB0DE8578\n",
      "\n",
      "Hooge troeven (1896)\n",
      "http://data.europeana.eu/proxy/provider/2021602/85108325C48AF34A5AAE490DB48F801C066258D7\n",
      "\n",
      "Metamorfoze (1897)\n",
      "http://data.europeana.eu/proxy/provider/2021602/DB316D6FE4BA86A0F525DAC8363E88CE6BC75B16\n",
      "\n",
      "Psyche (1898)\n",
      "http://data.europeana.eu/proxy/provider/2021602/23BB017E754AC7DE485002FF5BF2907A37997749\n",
      "\n",
      "Langs lijnen van geleidelijkheid (1899)\n",
      "http://data.europeana.eu/proxy/provider/2021602/6659ECA9184007E24CAA10921DCC83AF4F8EC0C4\n",
      "\n",
      "Fidessa (1899)\n",
      "http://data.europeana.eu/proxy/provider/2021602/13F816F9F1BC8D115B7991F6DBC25AE8B3A61503\n",
      "\n",
      "De stille kracht (1900)\n",
      "http://data.europeana.eu/proxy/provider/2021602/BDCD4B5A5F7E2B31C79BC4590D339663EC2B0960\n",
      "\n",
      "Babel (1901)\n",
      "http://data.europeana.eu/proxy/provider/2021602/9B309238639DC8FEBE61D4733DFF652F92DE8DB9\n",
      "\n",
      "De kleine zielen (1901)\n",
      "http://data.europeana.eu/proxy/provider/2021602/75D0FB6337DC762E14A1459B21DD2D707C557AF0\n",
      "\n",
      "De boeken der kleine zielen (1901)\n",
      "http://data.europeana.eu/proxy/provider/2021602/E1E66956429490DB65D2B0E0DD1485B9303A602B\n",
      "\n",
      "Het late leven (1902)\n",
      "http://data.europeana.eu/proxy/provider/2021602/DEB9CB45A605029E6E1FDFD97E743CC95DA99EDA\n",
      "\n",
      "Zielenschemering (1902)\n",
      "http://data.europeana.eu/proxy/provider/2021602/749ABB9636A57B32B671AFB1DA405CA18E45A00D\n",
      "\n",
      "Over lichtende drempels (1902)\n",
      "http://data.europeana.eu/proxy/provider/2021602/DD4B8E56F15A52E557CBBA0E76D13B181850F36C\n",
      "\n",
      "Het heilige weten (1903)\n",
      "http://data.europeana.eu/proxy/provider/2021602/4CFA9A7C9281AF5C3AD6519761DCC45267E7EC28\n",
      "\n",
      "Dionyzos (1904)\n",
      "http://data.europeana.eu/proxy/provider/2021602/6818EF15825B0AC043F9B265AD356B90F79B61A4\n",
      "\n",
      "De berg van licht (1905)\n",
      "http://data.europeana.eu/proxy/provider/2021602/E7A5101B9968DC596557F973A4EB29590B8C03FE\n",
      "\n",
      "Van oude menschen, de dingen, die voorbijgaan... (1906)\n",
      "http://data.europeana.eu/proxy/provider/2021602/C561B1BC870F647BFE4CE4A829CDBC15645F6BBF\n",
      "\n",
      "Korte arabesken (1911)\n",
      "http://data.europeana.eu/proxy/provider/2021602/CBD1CC989332C11A35D00E2E9DD9647175B0621A\n",
      "\n",
      "Antieke verhalen (1911)\n",
      "http://data.europeana.eu/proxy/provider/2021602/EBD9B6BAA379E7A9430B2EEE0FBECA19A9C94437\n",
      "\n",
      "De zwaluwen neêr gestreken (1911)\n",
      "http://data.europeana.eu/proxy/provider/2021602/D23430826CF940B9723984187EDE18E3F0A4A249\n",
      "\n",
      "Uit blanke steden onder blauwe lucht (1912)\n",
      "http://data.europeana.eu/proxy/provider/2021602/FAB31083DA4CB3427A8012573FA459EE84473512\n",
      "\n",
      "Schimmen van schoonheid (1912)\n",
      "http://data.europeana.eu/proxy/provider/2021602/2A7B3B22AE0372AEBAF72A1BE0F9E04917F8AF44\n",
      "\n",
      "Herakles (1913)\n",
      "http://data.europeana.eu/proxy/provider/2021602/F6E138BD9C0DBFC239E1C44AB0195E5FE83DB658\n",
      "\n"
     ]
    }
   ],
   "source": [
    "for i,row in couperus.drop_duplicates(subset=\"object.value\").sort_values(by='date.value').iloc[:30].iterrows():\n",
    "    print(f\"{row['title.value']} ({row['date.value']})\\n{row['object.value']}\\n\")"
   ]
  },
  {
   "cell_type": "markdown",
   "id": "0b3b36f6",
   "metadata": {},
   "source": [
    "What are the most frequent words in Couperus' \"Eline Vere\"?"
   ]
  },
  {
   "cell_type": "code",
   "execution_count": 20,
   "id": "abe55ba5",
   "metadata": {},
   "outputs": [
    {
     "name": "stdout",
     "output_type": "stream",
     "text": [
      "https://www.dbnl.org/nieuws/text.php?id=coup002stil01\n",
      "coup002stil01 has been downloaded!\n",
      "https://www.dbnl.org/nieuws/text.php?id=coup002elin01\n",
      "coup002elin01 has been downloaded!\n"
     ]
    }
   ],
   "source": [
    "ids = ['coup002stil01' ,'coup002elin01']\n",
    "\n",
    "for text in ids:\n",
    "    url = f'https://www.dbnl.org/nieuws/text.php?id={text}'\n",
    "    print(url)\n",
    "    response = requests.get(url)\n",
    "    if response:\n",
    "        out = open(text,'w',encoding='utf-8')\n",
    "        out.write(response.text)\n",
    "        out.close()\n",
    "        print(f\"{text} has been downloaded!\")\n",
    "    "
   ]
  },
  {
   "cell_type": "code",
   "execution_count": 25,
   "id": "014e3638",
   "metadata": {},
   "outputs": [
    {
     "name": "stdout",
     "output_type": "stream",
     "text": [
      "The novel contains 92753 words and 13691 unique words\n",
      "\n",
      "Most frequent words:\n",
      "zoo => 1240\n",
      "den => 1212\n",
      "eline => 1099\n",
      "zoû => 810\n",
      "hare => 570\n",
      "mevrouw => 562\n",
      "terwijl => 453\n",
      "paul => 441\n",
      "wel => 434\n",
      "betsy => 434\n",
      "zag => 407\n",
      "vroeg => 372\n",
      "sprak => 370\n",
      "o => 363\n",
      "dien => 361\n",
      "otto => 332\n",
      "eene => 324\n",
      "marie => 322\n",
      "waar => 319\n",
      "goed => 301\n"
     ]
    }
   ],
   "source": [
    "text_file = open('coup002elin01.txt',encoding='utf-8')\n",
    "full_text = text_file.read() \n",
    "\n",
    "dutch_stopwords = stopwords.words('dutch')\n",
    "\n",
    "# Calculate number of words\n",
    "words = word_tokenize(full_text.lower())\n",
    "words = remove_punctuation(words)\n",
    "eline_vere = [word for word in words if word not in dutch_stopwords]\n",
    "\n",
    "word_frequencies = Counter(eline_vere)\n",
    "print(f'The novel contains {len(eline_vere)} words and {len(word_frequencies)} unique words')\n",
    "\n",
    "max = 20\n",
    "\n",
    "print('\\nMost frequent words:')\n",
    "for word,count in word_frequencies.most_common(max):\n",
    "    print(f\"{word} => {count}\")"
   ]
  },
  {
   "cell_type": "code",
   "execution_count": 26,
   "id": "03431911",
   "metadata": {},
   "outputs": [],
   "source": [
    "text_file = open('coup002stil01.txt',encoding='utf-8')\n",
    "full_text = text_file.read() \n",
    "\n",
    "# Calculate number of words\n",
    "words = word_tokenize(full_text.lower())\n",
    "words = remove_punctuation(words)\n",
    "stille_kracht = [word for word in words if word not in dutch_stopwords]"
   ]
  },
  {
   "cell_type": "code",
   "execution_count": 39,
   "id": "3a150b30",
   "metadata": {},
   "outputs": [
    {
     "name": "stdout",
     "output_type": "stream",
     "text": [
      "The following words from 'Eline Vere' are never used in 'De Stille Kracht':\n",
      "eline => 1099\n",
      "betsy => 434\n",
      "marie => 322\n",
      "vincent => 285\n",
      "lili => 278\n",
      "henk => 277\n",
      "heur => 244\n",
      "freddy => 233\n",
      "frédérique => 231\n",
      "etienne => 206\n",
      "mathilde => 185\n",
      "emilie => 183\n",
      "georges => 181\n",
      "raat => 171\n",
      "erlevoort => 128\n",
      "jeanne => 125\n",
      "oom => 107\n",
      "verstraeten => 101\n",
      "vere => 97\n",
      "tante => 89\n"
     ]
    }
   ],
   "source": [
    "words_list = []\n",
    "for word in eline_vere:\n",
    "    if word not in stille_kracht:\n",
    "        words_list.append(word)\n",
    "        \n",
    "unique_words = Counter(words_list)\n",
    "\n",
    "print(\"The following words from 'Eline Vere' are never used in 'De Stille Kracht':\")\n",
    "for word,count in unique_words.most_common(20):\n",
    "    print(f\"{word} => {count}\")\n",
    "    "
   ]
  },
  {
   "cell_type": "code",
   "execution_count": 40,
   "id": "cb47f7de",
   "metadata": {},
   "outputs": [
    {
     "name": "stdout",
     "output_type": "stream",
     "text": [
      "The following words from 'De Stille kracht' are never used in 'Eline Vere':\n",
      "oudijck => 229\n",
      "theo => 133\n",
      "doddy => 120\n",
      "addy => 108\n",
      "laboewangi => 90\n",
      "oerip => 54\n",
      "batavia => 54\n",
      "eldersma => 48\n",
      "kandjeng => 41\n",
      "ngadjiwa => 38\n",
      "does => 37\n",
      "bevolking => 37\n",
      "indische => 35\n",
      "luce => 35\n",
      "pangéran => 34\n",
      "ida => 33\n",
      "patjaram => 32\n",
      "ambtenaren => 28\n",
      "javaansche => 26\n",
      "soerabaia => 21\n"
     ]
    }
   ],
   "source": [
    "words_list = []\n",
    "for word in stille_kracht:\n",
    "    if word not in eline_vere:\n",
    "        words_list.append(word)\n",
    "        \n",
    "unique_words = Counter(words_list)\n",
    "\n",
    "print(\"The following words from 'De Stille kracht' are never used in 'Eline Vere':\")\n",
    "for word,count in unique_words.most_common(20):\n",
    "    print(f\"{word} => {count}\")"
   ]
  },
  {
   "cell_type": "code",
   "execution_count": 41,
   "id": "f2f315ea",
   "metadata": {},
   "outputs": [],
   "source": [
    "from nltk.text import Text\n",
    "novel = Text(stille_kracht)"
   ]
  },
  {
   "cell_type": "code",
   "execution_count": 42,
   "id": "26cca6b1",
   "metadata": {},
   "outputs": [
    {
     "name": "stdout",
     "output_type": "stream",
     "text": [
      "Displaying 15 of 54 matches:\n",
      "rezident mooie nonna batavia woonde zeide stil sp\n",
      "ng twee kleine sinjo batavia meêbracht hunne groo\n",
      "i wanhopig vervelend batavia waar twee maanden ge\n",
      "ng vooral hare maand batavia ná zoo maand pervers\n",
      "ren laboewangi dorst batavia deed geloofde nauwli\n",
      "d geloofde nauwlijks batavia vertelde verzekerde \n",
      "ertellende kennissen batavia races buitenzorg bal\n",
      "ent gewest open kwam batavia semarang soerabaia v\n",
      " ontstemd laboewangi batavia gedrukt verveling bi\n",
      "uve mousseline japon batavia hoed mauve papavers \n",
      " voorbijreed spoedig batavia eene teleurstelling \n",
      "s periodiek behoefte batavia ging paar maanden he\n",
      "jne opvoeding geheel batavia gehad gymnazium will\n",
      "lang mevrouw oudijck batavia vroeg ida twee maand\n",
      "ndel mevrouw oudijck batavia geamuzeerd jullie ve\n"
     ]
    }
   ],
   "source": [
    "novel.concordance('batavia' , width = 50 , lines = 15)"
   ]
  },
  {
   "cell_type": "code",
   "execution_count": 43,
   "id": "0245d297",
   "metadata": {},
   "outputs": [
    {
     "name": "stdout",
     "output_type": "stream",
     "text": [
      "Displaying 15 of 21 matches:\n",
      "nkele minuten trein soerabaia aankwam zag mevrouw\n",
      "am batavia semarang soerabaia vorstenlanden zoû h\n",
      "de gedrild zoo goed soerabaia kwam voorstellingen\n",
      " italiaansche opera soerabaia verleden keer socie\n",
      "oen alleen semarang soerabaia vorstenlanden heel \n",
      "eiden feest waarvan soerabaia zoû hooren streelde\n",
      " zoo kiespijn moest soerabaia den dentist zoû wel\n",
      "lgenden dag vertrok soerabaia logeerde deed waarl\n",
      "espijn zeide daarom soerabaia vond aardig hield z\n",
      " italiaansche opera soerabaia hoogte voelden groo\n",
      " zet zaal vol komen soerabaia meê helpen waar mev\n",
      " eva eva trok terug soerabaia waar ging boodschap\n",
      "id hangen couranten soerabaia batavia toe versche\n",
      "dijck hersteld ging soerabaia logeeren kennissen \n",
      " weg léonie invloed soerabaia groote mannen den h\n"
     ]
    }
   ],
   "source": [
    "novel.concordance('soerabaia' , width = 50 , lines = 15)"
   ]
  }
 ],
 "metadata": {
  "kernelspec": {
   "display_name": "Python 3 (ipykernel)",
   "language": "python",
   "name": "python3"
  },
  "language_info": {
   "codemirror_mode": {
    "name": "ipython",
    "version": 3
   },
   "file_extension": ".py",
   "mimetype": "text/x-python",
   "name": "python",
   "nbconvert_exporter": "python",
   "pygments_lexer": "ipython3",
   "version": "3.7.9"
  }
 },
 "nbformat": 4,
 "nbformat_minor": 5
}

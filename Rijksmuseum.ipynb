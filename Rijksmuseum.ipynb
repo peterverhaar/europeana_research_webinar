{
 "cells": [
  {
   "cell_type": "markdown",
   "id": "4e2efcd1",
   "metadata": {},
   "source": [
    "## Rijksmuseum"
   ]
  },
  {
   "cell_type": "markdown",
   "id": "9af24bf9",
   "metadata": {},
   "source": [
    "This notebook explains how you can use Europeana's SPARQL endpoint to explore the contents of the collection of a specific cultural heritage institution - that of the Rijksmuseum. "
   ]
  },
  {
   "cell_type": "code",
   "execution_count": null,
   "id": "b1453995",
   "metadata": {},
   "outputs": [],
   "source": [
    "!pip install SPARQLWrapper\n",
    "def download(url):\n",
    "    response = requests.get(url)\n",
    "    if response:\n",
    "        new_file_name = basename(url)\n",
    "        print(f\"{new_file_name} is downloaded!\")\n",
    "        out = open(new_file_name,'w',encoding='utf-8')\n",
    "        out.write(response.text)\n",
    "        out.close()\n",
    "        \n",
    "download('https://raw.githubusercontent.com/peterverhaar/europeana_research_webinar/refs/heads/main/europeana_sparql.py')"
   ]
  },
  {
   "cell_type": "code",
   "execution_count": 9,
   "id": "77c0706d",
   "metadata": {},
   "outputs": [],
   "source": [
    "from europeana_sparql import *"
   ]
  },
  {
   "cell_type": "markdown",
   "id": "68ad350f",
   "metadata": {},
   "source": [
    "As you can see, the query groups the results by institution and counts the number of items for each institution. Using this query, we can establish that there are 159 Dutch institutions which added objects to Europeana. \n",
    "\n",
    "The code below lists of all the institutions which have contributed more than 10,000 objects. "
   ]
  },
  {
   "cell_type": "markdown",
   "id": "9d5064a7",
   "metadata": {},
   "source": [
    "Using COUNT() in the query below, we can verify the information about the number of items added by the Rijksmuseum. "
   ]
  },
  {
   "cell_type": "code",
   "execution_count": 12,
   "id": "081c1731",
   "metadata": {},
   "outputs": [
    {
     "name": "stdout",
     "output_type": "stream",
     "text": [
      "There are 350349 items in this collection.\n"
     ]
    }
   ],
   "source": [
    "query = \"\"\"\n",
    "PREFIX dc: <http://purl.org/dc/elements/1.1/>\n",
    "PREFIX edm: <http://www.europeana.eu/schemas/edm/>\n",
    "PREFIX ore: <http://www.openarchives.org/ore/terms/>\n",
    "PREFIX html: <http://www.w3.org/1999/xhtml/vocab#>\n",
    "\n",
    "SELECT COUNT( DISTINCT ?object )\n",
    "WHERE {\n",
    "\n",
    "\n",
    "?object ore:proxyIn ?local_aggr .\n",
    "?object ore:proxyFor ?cho .\n",
    "?eur_aggr edm:aggregatedCHO ?cho .\n",
    "?eur_aggr a edm:EuropeanaAggregation .\n",
    "\n",
    "?local_aggr edm:dataProvider 'Rijksmuseum' .\n",
    "}\n",
    "\"\"\"\n",
    "\n",
    "df = run_query(query)\n",
    "print( f\"There are {df['callret-0.value'].iloc[0]} items in this collection.\" )\n"
   ]
  },
  {
   "cell_type": "markdown",
   "id": "ca42994d",
   "metadata": {},
   "source": [
    "Which kinds of objects can we find in this collection? We can explore the contents of this collection by examing the values supplied for `dc:type`.\n",
    "\n",
    "For each type, we can also request a human-understandable label, using the `skos:prefLabel` predicate. "
   ]
  },
  {
   "cell_type": "code",
   "execution_count": 18,
   "id": "5cbae4d7",
   "metadata": {},
   "outputs": [
    {
     "name": "stdout",
     "output_type": "stream",
     "text": [
      "prints (visual works) => 189523\n",
      "lithography => 19190\n",
      "stereoscopic photographs => 8009\n",
      "gelatin silver process => 5195\n",
      "drypoint (printing process) => 3680\n",
      "easel paintings (paintings by form) => 3445\n",
      "collotype (process) => 2569\n",
      "weaving => 1887\n",
      "Woodburytype (process) => 1626\n",
      "plates (general, dishes) => 1554\n",
      "cabinet photographs => 1430\n",
      "salted paper prints => 921\n",
      "cyanotypes (photographic prints) => 491\n",
      "photomechanical processes => 436\n",
      "dishes (vessels) => 383\n",
      "ribbon (material) => 379\n",
      "braid (trimming) => 309\n",
      "brocading => 277\n",
      "carbon process => 259\n",
      "ferrotyping => 256\n"
     ]
    }
   ],
   "source": [
    "query = \"\"\"\n",
    "PREFIX dc: <http://purl.org/dc/elements/1.1/>\n",
    "PREFIX edm: <http://www.europeana.eu/schemas/edm/>\n",
    "PREFIX ore: <http://www.openarchives.org/ore/terms/>\n",
    "PREFIX html: <http://www.w3.org/1999/xhtml/vocab#>\n",
    "PREFIX skos: <http://www.w3.org/2004/02/skos/core#>\n",
    "\n",
    "SELECT ?label , COUNT(?label)\n",
    "WHERE {\n",
    "\n",
    "?object ore:proxyIn ?local_aggr .\n",
    "?object ore:proxyFor ?cho .\n",
    "?eur_aggr edm:aggregatedCHO ?cho .\n",
    "?eur_aggr a edm:EuropeanaAggregation .\n",
    "\n",
    "?local_aggr edm:dataProvider 'Rijksmuseum' .\n",
    "?object dc:type ?type .\n",
    "?type skos:prefLabel ?label . \n",
    "FILTER( lang(?label) = 'en' )\n",
    "}\n",
    "GROUP BY ?label\n",
    "\"\"\"\n",
    "\n",
    "types_df = run_query(query)\n",
    "types_df['callret-1.value'] = types_df['callret-1.value'].astype(int)\n",
    "types_df = types_df.sort_values(by=['callret-1.value'] , ascending = False )\n",
    "\n",
    "for i,row in types_df.iloc[:20].iterrows():\n",
    "    print( f\"{row['label.value']} => {row['callret-1.value']}\" )\n"
   ]
  },
  {
   "cell_type": "markdown",
   "id": "55d0091c",
   "metadata": {},
   "source": [
    "In this overview, we can see that the type \"easel paintings (paintings by form)\", from the Getty Vocabularies has been assigned very frequently, namely, more than 3440 times. \n",
    "\n",
    "Using the results of the following query, we can display a number of examples of works in this category. "
   ]
  },
  {
   "cell_type": "code",
   "execution_count": 19,
   "id": "df14d36f",
   "metadata": {},
   "outputs": [
    {
     "name": "stdout",
     "output_type": "stream",
     "text": [
      "30 results.\n",
      "Rough Sea\n",
      "http://hdl.handle.net/10934/RM0001.COLLECT.5892\n"
     ]
    },
    {
     "data": {
      "text/html": [
       "<a target=\"_new\" href=\"http://lh6.ggpht.com/kQWTa_K2RoVzThp1hP8cAerSRf3icfoPXDqun0iWPrnE6LaZ8veko1cBGzXT-tMjtWp8URk8y8eRN7QC8UXKqDtKjXwB=s0\"><img src=\"http://lh6.ggpht.com/kQWTa_K2RoVzThp1hP8cAerSRf3icfoPXDqun0iWPrnE6LaZ8veko1cBGzXT-tMjtWp8URk8y8eRN7QC8UXKqDtKjXwB=s0\" style=\"width: 200px;\"/></a><br/><br/>"
      ],
      "text/plain": [
       "<IPython.core.display.HTML object>"
      ]
     },
     "metadata": {},
     "output_type": "display_data"
    },
    {
     "name": "stdout",
     "output_type": "stream",
     "text": [
      "Country Inn\n",
      "http://hdl.handle.net/10934/RM0001.COLLECT.8362\n"
     ]
    },
    {
     "data": {
      "text/html": [
       "<a target=\"_new\" href=\"http://lh4.ggpht.com/NNSAFBFHpf3qa3hdMylAMv0h6dWJ7Gp_RokL9HJ2XWcqyAZIz0pwV-CocFJ7_ld3kOb-CbdnD41ruQ7TPT7OdM2HB6o=s0\"><img src=\"http://lh4.ggpht.com/NNSAFBFHpf3qa3hdMylAMv0h6dWJ7Gp_RokL9HJ2XWcqyAZIz0pwV-CocFJ7_ld3kOb-CbdnD41ruQ7TPT7OdM2HB6o=s0\" style=\"width: 200px;\"/></a><br/><br/>"
      ],
      "text/plain": [
       "<IPython.core.display.HTML object>"
      ]
     },
     "metadata": {},
     "output_type": "display_data"
    },
    {
     "name": "stdout",
     "output_type": "stream",
     "text": [
      "Gelder Landscape\n",
      "http://hdl.handle.net/10934/RM0001.COLLECT.5370\n"
     ]
    },
    {
     "data": {
      "text/html": [
       "<a target=\"_new\" href=\"http://lh6.ggpht.com/3_CaOEhljD_zAyQv2E4W2sfkxxjgai-IGjxF-bvaam3zoZy2BpD50mOt1kkCj0bjUedeZInE_ir29PSUz2gg4WDhdA=s0\"><img src=\"http://lh6.ggpht.com/3_CaOEhljD_zAyQv2E4W2sfkxxjgai-IGjxF-bvaam3zoZy2BpD50mOt1kkCj0bjUedeZInE_ir29PSUz2gg4WDhdA=s0\" style=\"width: 200px;\"/></a><br/><br/>"
      ],
      "text/plain": [
       "<IPython.core.display.HTML object>"
      ]
     },
     "metadata": {},
     "output_type": "display_data"
    },
    {
     "name": "stdout",
     "output_type": "stream",
     "text": [
      "Farmhouse near Helvoirt\n",
      "http://hdl.handle.net/10934/RM0001.COLLECT.5913\n"
     ]
    },
    {
     "data": {
      "text/html": [
       "<a target=\"_new\" href=\"http://lh6.ggpht.com/_trgl7MOQvbWvTw17BCKbzNj0cWBK6zz83opXDwU5NngEFAO3hfykAUfe14TeACCaiOOPdZShTGYHvCtSz7T68D1-5s=s0\"><img src=\"http://lh6.ggpht.com/_trgl7MOQvbWvTw17BCKbzNj0cWBK6zz83opXDwU5NngEFAO3hfykAUfe14TeACCaiOOPdZShTGYHvCtSz7T68D1-5s=s0\" style=\"width: 200px;\"/></a><br/><br/>"
      ],
      "text/plain": [
       "<IPython.core.display.HTML object>"
      ]
     },
     "metadata": {},
     "output_type": "display_data"
    },
    {
     "name": "stdout",
     "output_type": "stream",
     "text": [
      "The Navy's Frigate 'Rotterdam' on the Maas off Rotterdam\n",
      "http://hdl.handle.net/10934/RM0001.COLLECT.5943\n"
     ]
    },
    {
     "data": {
      "text/html": [
       "<a target=\"_new\" href=\"http://lh6.ggpht.com/YRgUAavCffJHOEUH5gZdR0iv6unzBgtRh30x8yAZIoD5e8WRkylMHRc9nDzKkOVbWunl5c8wv12EImTw4xc6qjpGOw=s0\"><img src=\"http://lh6.ggpht.com/YRgUAavCffJHOEUH5gZdR0iv6unzBgtRh30x8yAZIoD5e8WRkylMHRc9nDzKkOVbWunl5c8wv12EImTw4xc6qjpGOw=s0\" style=\"width: 200px;\"/></a><br/><br/>"
      ],
      "text/plain": [
       "<IPython.core.display.HTML object>"
      ]
     },
     "metadata": {},
     "output_type": "display_data"
    },
    {
     "name": "stdout",
     "output_type": "stream",
     "text": [
      "City Wall with Gunpowder Magazine\n",
      "http://hdl.handle.net/10934/RM0001.COLLECT.5974\n"
     ]
    },
    {
     "data": {
      "text/html": [
       "<a target=\"_new\" href=\"http://lh6.ggpht.com/uhpQghNyIDA6TA06SVPGvawp67KpGLnu8WfcTBOFkWs6bOscjflWBywXgZhkhNOv9zP4yXcPa3FR8RK9i7h8e84n-g=s0\"><img src=\"http://lh6.ggpht.com/uhpQghNyIDA6TA06SVPGvawp67KpGLnu8WfcTBOFkWs6bOscjflWBywXgZhkhNOv9zP4yXcPa3FR8RK9i7h8e84n-g=s0\" style=\"width: 200px;\"/></a><br/><br/>"
      ],
      "text/plain": [
       "<IPython.core.display.HTML object>"
      ]
     },
     "metadata": {},
     "output_type": "display_data"
    },
    {
     "name": "stdout",
     "output_type": "stream",
     "text": [
      "Nicolaes van der Borght, Merchant of Antwerp\n",
      "http://hdl.handle.net/10934/RM0001.COLLECT.6670\n"
     ]
    },
    {
     "data": {
      "text/html": [
       "<a target=\"_new\" href=\"http://lh4.ggpht.com/2n5c-r_-BhBfbFdUAZmp2dj-LNocZ7gFgoMI7Brzw2fxkePRqjA7OF8T5XHMlYC2uQFDJj13fajpuLn5U2ItJL1X7w=s0\"><img src=\"http://lh4.ggpht.com/2n5c-r_-BhBfbFdUAZmp2dj-LNocZ7gFgoMI7Brzw2fxkePRqjA7OF8T5XHMlYC2uQFDJj13fajpuLn5U2ItJL1X7w=s0\" style=\"width: 200px;\"/></a><br/><br/>"
      ],
      "text/plain": [
       "<IPython.core.display.HTML object>"
      ]
     },
     "metadata": {},
     "output_type": "display_data"
    },
    {
     "name": "stdout",
     "output_type": "stream",
     "text": [
      "The Choir of the O.L.-Vrouwekerk in Breda with the Tomb of Engelbert II of Nassau\n",
      "http://hdl.handle.net/10934/RM0001.COLLECT.6178\n"
     ]
    },
    {
     "data": {
      "text/html": [
       "<a target=\"_new\" href=\"http://lh6.ggpht.com/pWT-BExw7i_k2tST099JBaHtjZGIz7LpVGhPFZ0mPYyH5Lbi403GKo5Rp5i1bAWpQclB6Ux2Gy9MnmLvLf-EH03S2EQ=s0\"><img src=\"http://lh6.ggpht.com/pWT-BExw7i_k2tST099JBaHtjZGIz7LpVGhPFZ0mPYyH5Lbi403GKo5Rp5i1bAWpQclB6Ux2Gy9MnmLvLf-EH03S2EQ=s0\" style=\"width: 200px;\"/></a><br/><br/>"
      ],
      "text/plain": [
       "<IPython.core.display.HTML object>"
      ]
     },
     "metadata": {},
     "output_type": "display_data"
    },
    {
     "name": "stdout",
     "output_type": "stream",
     "text": [
      "Flowers in a Terra Cotta Vase\n",
      "http://hdl.handle.net/10934/RM0001.COLLECT.6220\n"
     ]
    },
    {
     "data": {
      "text/html": [
       "<a target=\"_new\" href=\"http://lh3.ggpht.com/8wclBa3S4CJpuuXUGv0rKfQCAg4HrhC_cXrLgIwCkBdeKVwhQbu6dhwmUMI_o9kafCFT8iAtJD8Wj9LI3x8hTUh4Uas=s0\"><img src=\"http://lh3.ggpht.com/8wclBa3S4CJpuuXUGv0rKfQCAg4HrhC_cXrLgIwCkBdeKVwhQbu6dhwmUMI_o9kafCFT8iAtJD8Wj9LI3x8hTUh4Uas=s0\" style=\"width: 200px;\"/></a><br/><br/>"
      ],
      "text/plain": [
       "<IPython.core.display.HTML object>"
      ]
     },
     "metadata": {},
     "output_type": "display_data"
    },
    {
     "name": "stdout",
     "output_type": "stream",
     "text": [
      "The Poultryman\n",
      "http://hdl.handle.net/10934/RM0001.COLLECT.7095\n"
     ]
    },
    {
     "data": {
      "text/html": [
       "<a target=\"_new\" href=\"http://lh3.ggpht.com/bm9ZtqtfrzcNFFctefR3YnVWZJ-9gEQggnKry4y5mjXVmHDyjrPSbLF2vnW__hZczffIMM21cHyS1P4BwKbgVcNhAC9L=s0\"><img src=\"http://lh3.ggpht.com/bm9ZtqtfrzcNFFctefR3YnVWZJ-9gEQggnKry4y5mjXVmHDyjrPSbLF2vnW__hZczffIMM21cHyS1P4BwKbgVcNhAC9L=s0\" style=\"width: 200px;\"/></a><br/><br/>"
      ],
      "text/plain": [
       "<IPython.core.display.HTML object>"
      ]
     },
     "metadata": {},
     "output_type": "display_data"
    },
    {
     "name": "stdout",
     "output_type": "stream",
     "text": [
      "After Milking Time\n",
      "http://hdl.handle.net/10934/RM0001.COLLECT.8102\n"
     ]
    },
    {
     "data": {
      "text/html": [
       "<a target=\"_new\" href=\"http://lh3.ggpht.com/4xa5jVvlYbkSGh14wYrw8WJGU8vM48Q5T5NabUViGfxckY9eJrBgHocyC16wHtce34vvSel3YzDGVcAvUWHEd8Pv=s0\"><img src=\"http://lh3.ggpht.com/4xa5jVvlYbkSGh14wYrw8WJGU8vM48Q5T5NabUViGfxckY9eJrBgHocyC16wHtce34vvSel3YzDGVcAvUWHEd8Pv=s0\" style=\"width: 200px;\"/></a><br/><br/>"
      ],
      "text/plain": [
       "<IPython.core.display.HTML object>"
      ]
     },
     "metadata": {},
     "output_type": "display_data"
    },
    {
     "name": "stdout",
     "output_type": "stream",
     "text": [
      "The Torensluis and the Jan Roodenpoortstoren in Amsterdam\n",
      "http://hdl.handle.net/10934/RM0001.COLLECT.8129\n"
     ]
    },
    {
     "data": {
      "text/html": [
       "<a target=\"_new\" href=\"http://lh5.ggpht.com/CTdjWEFTzpA7vfON9QAqYeyp1DyDSPPwPn9jc_E8XKr26Hc3pobwQZOjHEzCsMMKPYK8pIEmkWlj3JXRkeSOYirqRGg=s0\"><img src=\"http://lh5.ggpht.com/CTdjWEFTzpA7vfON9QAqYeyp1DyDSPPwPn9jc_E8XKr26Hc3pobwQZOjHEzCsMMKPYK8pIEmkWlj3JXRkeSOYirqRGg=s0\" style=\"width: 200px;\"/></a><br/><br/>"
      ],
      "text/plain": [
       "<IPython.core.display.HTML object>"
      ]
     },
     "metadata": {},
     "output_type": "display_data"
    },
    {
     "name": "stdout",
     "output_type": "stream",
     "text": [
      "Swiss Peasant Woman\n",
      "http://hdl.handle.net/10934/RM0001.COLLECT.8132\n"
     ]
    },
    {
     "data": {
      "text/html": [
       "<a target=\"_new\" href=\"http://lh3.ggpht.com/oUndQRGn_P6hXYhZcj14cV4uLacIPNo6nl1ZeQ5IpFFy9evRFkcIg_JjCmcI-cst4Ndc6XOhllD0IJ1D1x4hq2nR1Ts=s0\"><img src=\"http://lh3.ggpht.com/oUndQRGn_P6hXYhZcj14cV4uLacIPNo6nl1ZeQ5IpFFy9evRFkcIg_JjCmcI-cst4Ndc6XOhllD0IJ1D1x4hq2nR1Ts=s0\" style=\"width: 200px;\"/></a><br/><br/>"
      ],
      "text/plain": [
       "<IPython.core.display.HTML object>"
      ]
     },
     "metadata": {},
     "output_type": "display_data"
    },
    {
     "name": "stdout",
     "output_type": "stream",
     "text": [
      "William II, Prince of Orange, and his Bride, Mary Stuart\n",
      "http://hdl.handle.net/10934/RM0001.COLLECT.8289\n"
     ]
    },
    {
     "data": {
      "text/html": [
       "<a target=\"_new\" href=\"http://lh4.ggpht.com/-Trgkxxmt6NJx1V69Bm0tgsQtEVOVgrRFXwOMyZYx2sDnKHlR-epUHK2DDa4qfpY4s29DP_veYMB8kwIQFwZTEfzFQ=s0\"><img src=\"http://lh4.ggpht.com/-Trgkxxmt6NJx1V69Bm0tgsQtEVOVgrRFXwOMyZYx2sDnKHlR-epUHK2DDa4qfpY4s29DP_veYMB8kwIQFwZTEfzFQ=s0\" style=\"width: 200px;\"/></a><br/><br/>"
      ],
      "text/plain": [
       "<IPython.core.display.HTML object>"
      ]
     },
     "metadata": {},
     "output_type": "display_data"
    },
    {
     "name": "stdout",
     "output_type": "stream",
     "text": [
      "A Collision at the Porte de Hal, Brussels\n",
      "http://hdl.handle.net/10934/RM0001.COLLECT.7097\n"
     ]
    },
    {
     "data": {
      "text/html": [
       "<a target=\"_new\" href=\"http://lh3.ggpht.com/N-ki8OHcNb6qBZg8rDX7dj36RW0NP_JhSXv5_Qkm_JQL2r7dY4UubxQO0ONQgdBulZ_UT-O03QA9sMfCDOUGlCA2KYlJ=s0\"><img src=\"http://lh3.ggpht.com/N-ki8OHcNb6qBZg8rDX7dj36RW0NP_JhSXv5_Qkm_JQL2r7dY4UubxQO0ONQgdBulZ_UT-O03QA9sMfCDOUGlCA2KYlJ=s0\" style=\"width: 200px;\"/></a><br/><br/>"
      ],
      "text/plain": [
       "<IPython.core.display.HTML object>"
      ]
     },
     "metadata": {},
     "output_type": "display_data"
    },
    {
     "name": "stdout",
     "output_type": "stream",
     "text": [
      "Frolicking on a Frozen Canal in a Town\n",
      "http://hdl.handle.net/10934/RM0001.COLLECT.7099\n"
     ]
    },
    {
     "data": {
      "text/html": [
       "<a target=\"_new\" href=\"http://lh5.ggpht.com/cTKfho-3YnZfh4-LPXf9f4duN42hbcTmYSJJXupLntQo9-ufyv2Vnu1H93mEsw6V194IaXxWuAAqX65lQUNgCN4PXkIw=s0\"><img src=\"http://lh5.ggpht.com/cTKfho-3YnZfh4-LPXf9f4duN42hbcTmYSJJXupLntQo9-ufyv2Vnu1H93mEsw6V194IaXxWuAAqX65lQUNgCN4PXkIw=s0\" style=\"width: 200px;\"/></a><br/><br/>"
      ],
      "text/plain": [
       "<IPython.core.display.HTML object>"
      ]
     },
     "metadata": {},
     "output_type": "display_data"
    },
    {
     "name": "stdout",
     "output_type": "stream",
     "text": [
      "Hunting Companions\n",
      "http://hdl.handle.net/10934/RM0001.COLLECT.7100\n"
     ]
    },
    {
     "data": {
      "text/html": [
       "<a target=\"_new\" href=\"http://lh5.ggpht.com/wyLYi-nFvC3A3YEaSaDFfaTPTWOiCbg0xxQvhlf6eofEcQEjo1ibEwJMsiUIEa8JZzSi4zkFm9Zu3pl79PWCB4NjYg=s0\"><img src=\"http://lh5.ggpht.com/wyLYi-nFvC3A3YEaSaDFfaTPTWOiCbg0xxQvhlf6eofEcQEjo1ibEwJMsiUIEa8JZzSi4zkFm9Zu3pl79PWCB4NjYg=s0\" style=\"width: 200px;\"/></a><br/><br/>"
      ],
      "text/plain": [
       "<IPython.core.display.HTML object>"
      ]
     },
     "metadata": {},
     "output_type": "display_data"
    },
    {
     "name": "stdout",
     "output_type": "stream",
     "text": [
      "Hebe with Jupiter in the Guise of an Eagle\n",
      "http://hdl.handle.net/10934/RM0001.COLLECT.8286\n"
     ]
    },
    {
     "data": {
      "text/html": [
       "<a target=\"_new\" href=\"http://lh3.ggpht.com/COimnRxvDJh9UBZLCLCDwhrC7Za24_7Zk0U8aL6zQLPusHrQi5c9ZpF0sFFxv-vCL9AziXfFQ5AgShV-RVekpnfZLg=s0\"><img src=\"http://lh3.ggpht.com/COimnRxvDJh9UBZLCLCDwhrC7Za24_7Zk0U8aL6zQLPusHrQi5c9ZpF0sFFxv-vCL9AziXfFQ5AgShV-RVekpnfZLg=s0\" style=\"width: 200px;\"/></a><br/><br/>"
      ],
      "text/plain": [
       "<IPython.core.display.HTML object>"
      ]
     },
     "metadata": {},
     "output_type": "display_data"
    },
    {
     "name": "stdout",
     "output_type": "stream",
     "text": [
      "View of Dordrecht seen from Papendrecht\n",
      "http://hdl.handle.net/10934/RM0001.COLLECT.7104\n"
     ]
    },
    {
     "data": {
      "text/html": [
       "<a target=\"_new\" href=\"http://lh3.ggpht.com/gTxhdpQx8ldy58w2kaBICPHQbGs1E0k5JxsWgFWfx7bxhC6VBR_hvX_OLJUE61e13dp8qDCw_fyydjFhutLUZEVEezM=s0\"><img src=\"http://lh3.ggpht.com/gTxhdpQx8ldy58w2kaBICPHQbGs1E0k5JxsWgFWfx7bxhC6VBR_hvX_OLJUE61e13dp8qDCw_fyydjFhutLUZEVEezM=s0\" style=\"width: 200px;\"/></a><br/><br/>"
      ],
      "text/plain": [
       "<IPython.core.display.HTML object>"
      ]
     },
     "metadata": {},
     "output_type": "display_data"
    },
    {
     "name": "stdout",
     "output_type": "stream",
     "text": [
      "The Cemetery at Baden-Baden\n",
      "http://hdl.handle.net/10934/RM0001.COLLECT.7105\n"
     ]
    },
    {
     "data": {
      "text/html": [
       "<a target=\"_new\" href=\"http://lh4.ggpht.com/QBz6QTOUG7B5FbmW7N1U7H0i-PFJccCAxYdFrBkukHfgRusWLRT4C1Imv2IHGqmSfAGfIhk_yNCcIe3bX2Oa6SAJyg=s0\"><img src=\"http://lh4.ggpht.com/QBz6QTOUG7B5FbmW7N1U7H0i-PFJccCAxYdFrBkukHfgRusWLRT4C1Imv2IHGqmSfAGfIhk_yNCcIe3bX2Oa6SAJyg=s0\" style=\"width: 200px;\"/></a><br/><br/>"
      ],
      "text/plain": [
       "<IPython.core.display.HTML object>"
      ]
     },
     "metadata": {},
     "output_type": "display_data"
    },
    {
     "name": "stdout",
     "output_type": "stream",
     "text": [
      "The Penitent Mary Magdalene\n",
      "http://hdl.handle.net/10934/RM0001.COLLECT.8287\n"
     ]
    },
    {
     "data": {
      "text/html": [
       "<a target=\"_new\" href=\"http://lh4.ggpht.com/NAULCHybOquVlKaKtjGfZsLFcnAuuLH8jQUyZ2TBSk8vmMwUwrw9wEw2KeNdIvz9xVzIvz3B2BtehEHBFexYx4Im9Ga_=s0\"><img src=\"http://lh4.ggpht.com/NAULCHybOquVlKaKtjGfZsLFcnAuuLH8jQUyZ2TBSk8vmMwUwrw9wEw2KeNdIvz9xVzIvz3B2BtehEHBFexYx4Im9Ga_=s0\" style=\"width: 200px;\"/></a><br/><br/>"
      ],
      "text/plain": [
       "<IPython.core.display.HTML object>"
      ]
     },
     "metadata": {},
     "output_type": "display_data"
    },
    {
     "name": "stdout",
     "output_type": "stream",
     "text": [
      "The Wedding of Jacoba of Bavaria, Countess of Holland, and Jan IV, Duke of Brabant, 10 March 1418\n",
      "http://hdl.handle.net/10934/RM0001.COLLECT.7106\n"
     ]
    },
    {
     "data": {
      "text/html": [
       "<a target=\"_new\" href=\"http://lh6.ggpht.com/uIxlGJHzuCl2lmQm0HPklmEw4oF8VRVY67TSdwmpUkeN7-UAKsh52ETJ2axKGqju0suHNuPdS58b4J6FTnI6TuKjUQ=s0\"><img src=\"http://lh6.ggpht.com/uIxlGJHzuCl2lmQm0HPklmEw4oF8VRVY67TSdwmpUkeN7-UAKsh52ETJ2axKGqju0suHNuPdS58b4J6FTnI6TuKjUQ=s0\" style=\"width: 200px;\"/></a><br/><br/>"
      ],
      "text/plain": [
       "<IPython.core.display.HTML object>"
      ]
     },
     "metadata": {},
     "output_type": "display_data"
    },
    {
     "name": "stdout",
     "output_type": "stream",
     "text": [
      "Still Life with Flowers and Fruit\n",
      "http://hdl.handle.net/10934/RM0001.COLLECT.7108\n"
     ]
    },
    {
     "data": {
      "text/html": [
       "<a target=\"_new\" href=\"http://lh5.ggpht.com/gSz7xT6o5xN5IdzosEm0Dqz66DDhQNzrRaqZAse0sujMLUm_KdTAWDl67FDLvPeigRFdeaQfXRl1Rzkrw0xfSu4ovQ0N=s0\"><img src=\"http://lh5.ggpht.com/gSz7xT6o5xN5IdzosEm0Dqz66DDhQNzrRaqZAse0sujMLUm_KdTAWDl67FDLvPeigRFdeaQfXRl1Rzkrw0xfSu4ovQ0N=s0\" style=\"width: 200px;\"/></a><br/><br/>"
      ],
      "text/plain": [
       "<IPython.core.display.HTML object>"
      ]
     },
     "metadata": {},
     "output_type": "display_data"
    },
    {
     "name": "stdout",
     "output_type": "stream",
     "text": [
      "´Becoming a Painter´\n",
      "http://hdl.handle.net/10934/RM0001.COLLECT.7110\n"
     ]
    },
    {
     "data": {
      "text/html": [
       "<a target=\"_new\" href=\"http://lh5.ggpht.com/FP3WeDop-irVCdGajRqNYRwF_O1YYO0lQoyc1THn_ejr7rylczPQv1E-syP10ThjWxAlSPZaAIpzw4Hc22g_1egjUOL0=s0\"><img src=\"http://lh5.ggpht.com/FP3WeDop-irVCdGajRqNYRwF_O1YYO0lQoyc1THn_ejr7rylczPQv1E-syP10ThjWxAlSPZaAIpzw4Hc22g_1egjUOL0=s0\" style=\"width: 200px;\"/></a><br/><br/>"
      ],
      "text/plain": [
       "<IPython.core.display.HTML object>"
      ]
     },
     "metadata": {},
     "output_type": "display_data"
    },
    {
     "name": "stdout",
     "output_type": "stream",
     "text": [
      "Midday break at a Shipyard on the Maas\n",
      "http://hdl.handle.net/10934/RM0001.COLLECT.7111\n"
     ]
    },
    {
     "data": {
      "text/html": [
       "<a target=\"_new\" href=\"http://lh4.ggpht.com/wFYtukzXKKYa5aVixHKomIeQPP2D7rN0jL6sLk8WfDRwjf-VGKvsasNYvhNQpx7brs_Z_skLdntnus78ARvSjNUDFQ=s0\"><img src=\"http://lh4.ggpht.com/wFYtukzXKKYa5aVixHKomIeQPP2D7rN0jL6sLk8WfDRwjf-VGKvsasNYvhNQpx7brs_Z_skLdntnus78ARvSjNUDFQ=s0\" style=\"width: 200px;\"/></a><br/><br/>"
      ],
      "text/plain": [
       "<IPython.core.display.HTML object>"
      ]
     },
     "metadata": {},
     "output_type": "display_data"
    },
    {
     "name": "stdout",
     "output_type": "stream",
     "text": [
      "St Francis at the Foot of the Cross\n",
      "http://hdl.handle.net/10934/RM0001.COLLECT.6671\n"
     ]
    },
    {
     "data": {
      "text/html": [
       "<a target=\"_new\" href=\"http://lh6.ggpht.com/WPYgmBPBXuxvGbTRNuX8z1zkCvCsTUEAMFPslD48AcxDhGRMIG29ZZKetQIOKsuns_JlypnA4nkRftzDnY7JtSQkWg=s0\"><img src=\"http://lh6.ggpht.com/WPYgmBPBXuxvGbTRNuX8z1zkCvCsTUEAMFPslD48AcxDhGRMIG29ZZKetQIOKsuns_JlypnA4nkRftzDnY7JtSQkWg=s0\" style=\"width: 200px;\"/></a><br/><br/>"
      ],
      "text/plain": [
       "<IPython.core.display.HTML object>"
      ]
     },
     "metadata": {},
     "output_type": "display_data"
    },
    {
     "name": "stdout",
     "output_type": "stream",
     "text": [
      "Self Portrait\n",
      "http://hdl.handle.net/10934/RM0001.COLLECT.7115\n"
     ]
    },
    {
     "data": {
      "text/html": [
       "<a target=\"_new\" href=\"http://lh3.ggpht.com/Q5161-z9umO-8Jgl05UH07gDtDpaNisYOKlx7DIkyRIMYcs1Sw8GCWYdC8Pi54ibTWFov7xi_DIgkFgbuFJ-eY0Ojw=s0\"><img src=\"http://lh3.ggpht.com/Q5161-z9umO-8Jgl05UH07gDtDpaNisYOKlx7DIkyRIMYcs1Sw8GCWYdC8Pi54ibTWFov7xi_DIgkFgbuFJ-eY0Ojw=s0\" style=\"width: 200px;\"/></a><br/><br/>"
      ],
      "text/plain": [
       "<IPython.core.display.HTML object>"
      ]
     },
     "metadata": {},
     "output_type": "display_data"
    },
    {
     "name": "stdout",
     "output_type": "stream",
     "text": [
      "Susanna and the Elders\n",
      "http://hdl.handle.net/10934/RM0001.COLLECT.7116\n"
     ]
    },
    {
     "data": {
      "text/html": [
       "<a target=\"_new\" href=\"http://lh6.ggpht.com/cs1cRZUMbjv_q7eoHGpOMDaS0efPy3ObJntoN4IKn8VSbNN2GwUapJMpx2d2ZGaRRwKbNaJ7qj2znQugQN_0u9YICw=s0\"><img src=\"http://lh6.ggpht.com/cs1cRZUMbjv_q7eoHGpOMDaS0efPy3ObJntoN4IKn8VSbNN2GwUapJMpx2d2ZGaRRwKbNaJ7qj2znQugQN_0u9YICw=s0\" style=\"width: 200px;\"/></a><br/><br/>"
      ],
      "text/plain": [
       "<IPython.core.display.HTML object>"
      ]
     },
     "metadata": {},
     "output_type": "display_data"
    },
    {
     "name": "stdout",
     "output_type": "stream",
     "text": [
      "Self-portrait\n",
      "http://hdl.handle.net/10934/RM0001.COLLECT.8694\n"
     ]
    },
    {
     "data": {
      "text/html": [
       "<a target=\"_new\" href=\"http://lh6.ggpht.com/XJNoI8yOCMV7uHy2-46IZiAlQ8e-8e2PhZa7Ja644V31fKyGJSZ_5SwT93GYQCnLUAp_yk2BzIh4N2IoRHkbWw9gT5I=s0\"><img src=\"http://lh6.ggpht.com/XJNoI8yOCMV7uHy2-46IZiAlQ8e-8e2PhZa7Ja644V31fKyGJSZ_5SwT93GYQCnLUAp_yk2BzIh4N2IoRHkbWw9gT5I=s0\" style=\"width: 200px;\"/></a><br/><br/>"
      ],
      "text/plain": [
       "<IPython.core.display.HTML object>"
      ]
     },
     "metadata": {},
     "output_type": "display_data"
    },
    {
     "name": "stdout",
     "output_type": "stream",
     "text": [
      "Portrait of Emma Jane Hodges\n",
      "http://hdl.handle.net/10934/RM0001.COLLECT.8698\n"
     ]
    },
    {
     "data": {
      "text/html": [
       "<a target=\"_new\" href=\"http://lh3.ggpht.com/GiOaIqKnNhD_VOFDK8NG0VsSUaDX9Dug2Nu3ctVfSI-ocHXRft9Jm38I5judIbEpYyG4C9KDgkgI66fgZ5BCHJtHQA=s0\"><img src=\"http://lh3.ggpht.com/GiOaIqKnNhD_VOFDK8NG0VsSUaDX9Dug2Nu3ctVfSI-ocHXRft9Jm38I5judIbEpYyG4C9KDgkgI66fgZ5BCHJtHQA=s0\" style=\"width: 200px;\"/></a><br/><br/>"
      ],
      "text/plain": [
       "<IPython.core.display.HTML object>"
      ]
     },
     "metadata": {},
     "output_type": "display_data"
    }
   ],
   "source": [
    "\n",
    "query = \"\"\"\n",
    "PREFIX dc: <http://purl.org/dc/elements/1.1/>\n",
    "PREFIX edm: <http://www.europeana.eu/schemas/edm/>\n",
    "PREFIX ore: <http://www.openarchives.org/ore/terms/>\n",
    "PREFIX html: <http://www.w3.org/1999/xhtml/vocab#>\n",
    "PREFIX skos: <http://www.w3.org/2004/02/skos/core#>\n",
    "\n",
    "SELECT ?title ?label ?url ?landing\n",
    "WHERE {\n",
    "\n",
    "?object ore:proxyIn ?local_aggr .\n",
    "?object ore:proxyFor ?cho .\n",
    "?eur_aggr edm:aggregatedCHO ?cho .\n",
    "?eur_aggr a edm:EuropeanaAggregation .\n",
    "\n",
    "?local_aggr edm:dataProvider 'Rijksmuseum' .\n",
    "\n",
    "?object dc:title ?title .\n",
    "?object dc:type ?type .\n",
    "?type skos:prefLabel ?label .\n",
    "FILTER( regex(lang(?title),'en') )\n",
    "FILTER( regex(?label,'easel paintings') )\n",
    "?local_aggr edm:isShownBy ?url .\n",
    "?local_aggr edm:isShownAt ?landing .\n",
    "}\n",
    "LIMIT 30\n",
    "\"\"\"\n",
    "\n",
    "df =run_query(query) \n",
    "print( f'{df.shape[0]} results.' )\n",
    "\n",
    "df.columns\n",
    "for i,row in df.iterrows():\n",
    "    print( row['title.value'] )\n",
    "    print( row['landing.value'] )\n",
    "    img = row['url.value']\n",
    "    display(HTML(f'<a target=\"_new\" href=\"{img}\"><img src=\"{img}\" style=\"width: 200px;\"/></a><br/><br/>'))\n"
   ]
  },
  {
   "cell_type": "markdown",
   "id": "e0cd7ec4",
   "metadata": {},
   "source": [
    "It can also be interesting to search for works created bny a specific artist. In the records from the Rijksmuseum, the artist has been described using the `dc:contributor` predicate.\n",
    "\n",
    "The code below creates a list of all the works created by Johannes Vermeer. "
   ]
  },
  {
   "cell_type": "code",
   "execution_count": 25,
   "id": "e04b96f8",
   "metadata": {},
   "outputs": [
    {
     "name": "stdout",
     "output_type": "stream",
     "text": [
      "http://data.europeana.eu/proxy/provider/90402/RP_P_1882_A_6718\n",
      "Keukenmeid met tobbe\n",
      "Vermeer, Johannes\n",
      "\n",
      "http://data.europeana.eu/proxy/provider/90402/RP_P_1882_A_6778\n",
      "Het melkmeisje\n",
      "Vermeer, Johannes\n",
      "\n",
      "http://data.europeana.eu/proxy/provider/90402/RP_T_1962_293\n",
      "De liefdesbrief\n",
      "Vermeer, Johannes\n",
      "\n",
      "http://data.europeana.eu/proxy/provider/90402/RP_P_1890_A_16176\n",
      "Brieflezende vrouw\n",
      "Vermeer, Johannes\n",
      "\n",
      "http://data.europeana.eu/proxy/provider/90402/RP_P_1983_409\n",
      "Kop van een meisje (naar J. Vermeer)\n",
      "Vermeer, Johannes\n",
      "\n",
      "http://data.europeana.eu/proxy/provider/90402/RP_P_1885_A_9209\n",
      "Gezicht op Delft naar de schilderij van I. van der Meer berustende in het Koninklijk kabinet te 's Gravenhage. In de marge links, van der Meer pinx: en rechts Ph. Zilcken AF. Onderschrift \"Delft/ Musée de la Haye/ Publié par E.J. van Wesselingh 48 Buitenhof La Haye en Mars 1885. J. Brouwens Imp\"\n",
      "Vermeer, Johannes\n",
      "\n",
      "http://data.europeana.eu/proxy/provider/90402/RP_P_1886_A_10491\n",
      "Gezicht op de stad Delft, naar van der Meer. De origineele schilderij berust evenals het volgende nummer in het Koninklijk Kabinet te Den Haag\n",
      "Vermeer, Johannes\n",
      "\n",
      "http://data.europeana.eu/proxy/provider/90402/RP_P_1903_A_23320\n",
      "Meisjesbuste met om het hoofd gewondendoek, naar J. Vermeer\n",
      "Vermeer, Johannes\n",
      "\n"
     ]
    }
   ],
   "source": [
    "\n",
    "query = \"\"\"\n",
    "PREFIX rdf: <http://www.w3.org/1999/02/22-rdf-syntax-ns#>\n",
    "PREFIX rdfs: <http://www.w3.org/2000/01/rdf-schema#>\n",
    "PREFIX dc: <http://purl.org/dc/elements/1.1/>\n",
    "PREFIX dcterms: <http://purl.org/dc/terms/>\n",
    "PREFIX edm: <http://www.europeana.eu/schemas/edm/>\n",
    "PREFIX ore: <http://www.openarchives.org/ore/terms/>\n",
    "PREFIX html: <http://www.w3.org/1999/xhtml/vocab#>\n",
    "PREFIX skos: <http://www.w3.org/2004/02/skos/core#>\n",
    "\n",
    "SELECT ?object ?title ?contributor WHERE {\n",
    "\n",
    "?object ore:proxyIn ?local_aggr .\n",
    "?object ore:proxyFor ?cho .\n",
    "?eur_aggr edm:aggregatedCHO ?cho .\n",
    "?eur_aggr a edm:EuropeanaAggregation .\n",
    "\n",
    "?local_aggr edm:dataProvider 'Rijksmuseum' .\n",
    "\n",
    "  ?object dc:contributor ?contributor .\n",
    "  ?object dc:title ?title .\n",
    "  FILTER( regex(?contributor,'Vermeer, Johannes') )\n",
    "} \n",
    "LIMIT 10\n",
    "\"\"\"\n",
    "\n",
    "df = run_query(query)\n",
    "for i,row in df.iterrows():\n",
    "    print( f\"{row['object.value']}\")\n",
    "    print( f\"{row['title.value']}\")\n",
    "    print( f\"{row['contributor.value']}\\n\" )"
   ]
  },
  {
   "cell_type": "markdown",
   "id": "cbcb8435",
   "metadata": {},
   "source": [
    "Many of the works of art contributed by the Rijksmuseum have been described using [Iconclass](https://iconclass.org).\n",
    "\n",
    "The SPARQL query below enables us to find all the works in the Rijksmuseum that have been assigned the Iconclass code '[49N](https://iconclass.org/49N)', describing the act of reading. "
   ]
  },
  {
   "cell_type": "code",
   "execution_count": 27,
   "id": "1d803eff",
   "metadata": {},
   "outputs": [
    {
     "name": "stdout",
     "output_type": "stream",
     "text": [
      "There 13 objects displaying swans.\n",
      "Vrouw en twee kinderen\n"
     ]
    },
    {
     "data": {
      "text/html": [
       "<a target=\"_new\" href=\"http://hdl.handle.net/10934/RM0001.COLLECT.149332\"><img src=\"http://lh4.ggpht.com/7u4L8P93S1FvmI6yIa-5DV8zKxvkZbobYfDVVjh-tehM7FGkECU6hntwMTeMALyQQ5eHSg-NwGRASAFKnhS1BBV8P58=s0\" style=\"width: 200px;\"/></a>"
      ],
      "text/plain": [
       "<IPython.core.display.HTML object>"
      ]
     },
     "metadata": {},
     "output_type": "display_data"
    },
    {
     "name": "stdout",
     "output_type": "stream",
     "text": [
      "Lezende monnik\n"
     ]
    },
    {
     "data": {
      "text/html": [
       "<a target=\"_new\" href=\"http://hdl.handle.net/10934/RM0001.COLLECT.130839\"><img src=\"http://lh6.ggpht.com/tA4YJPiRlzq00HARSDpFivNkkULZlpjhH2IV4r-Aunl3bqYIPZqYpDQ30hMzsDdHj4-ZN1r00gDbwY4DTsfqgwjPkg=s0\" style=\"width: 200px;\"/></a>"
      ],
      "text/plain": [
       "<IPython.core.display.HTML object>"
      ]
     },
     "metadata": {},
     "output_type": "display_data"
    },
    {
     "name": "stdout",
     "output_type": "stream",
     "text": [
      "Monnik in een grot\n"
     ]
    },
    {
     "data": {
      "text/html": [
       "<a target=\"_new\" href=\"http://hdl.handle.net/10934/RM0001.COLLECT.130832\"><img src=\"http://lh5.ggpht.com/TTyphKLey2DAOJQE0rBaTASKgWmqOM3zXX0tt6XZI8xzKzhS3Lw4pyxPM_HBjMzO7KYwmkdJzQ3ECRcuuyrbj4Z_X_0=s0\" style=\"width: 200px;\"/></a>"
      ],
      "text/plain": [
       "<IPython.core.display.HTML object>"
      ]
     },
     "metadata": {},
     "output_type": "display_data"
    },
    {
     "name": "stdout",
     "output_type": "stream",
     "text": [
      "Monnik in een grot\n"
     ]
    },
    {
     "data": {
      "text/html": [
       "<a target=\"_new\" href=\"http://hdl.handle.net/10934/RM0001.COLLECT.130834\"><img src=\"http://lh6.ggpht.com/S1s4SplU5TMweEY1pBFmTau6KdCwLz71ELQ-_mDmDcmAyhRcOFvhsqH74aMgC88s2d9bbKkeNg6_08T-cIhWhYg1tjA=s0\" style=\"width: 200px;\"/></a>"
      ],
      "text/plain": [
       "<IPython.core.display.HTML object>"
      ]
     },
     "metadata": {},
     "output_type": "display_data"
    },
    {
     "name": "stdout",
     "output_type": "stream",
     "text": [
      "Lezende man\n"
     ]
    },
    {
     "data": {
      "text/html": [
       "<a target=\"_new\" href=\"http://hdl.handle.net/10934/RM0001.COLLECT.130873\"><img src=\"http://lh3.ggpht.com/wAM9HW3T1K6SuXOfngh35sSgVKqKoRvMCnl89A1zqEVw7FTqEDT5hEKAYsEbNb5ZFzWkyUVU3bvhqT0EmYDByL7kfw=s0\" style=\"width: 200px;\"/></a>"
      ],
      "text/plain": [
       "<IPython.core.display.HTML object>"
      ]
     },
     "metadata": {},
     "output_type": "display_data"
    },
    {
     "name": "stdout",
     "output_type": "stream",
     "text": [
      "Lezende man\n"
     ]
    },
    {
     "data": {
      "text/html": [
       "<a target=\"_new\" href=\"http://hdl.handle.net/10934/RM0001.COLLECT.130874\"><img src=\"http://lh6.ggpht.com/XIz-TbFvsjqr-KFYt1FmMgZHL9YHUbpv3Ux3HMPOqmacj4bVZGNt8z-4EZmxoWh0bHgdbPl-IUO8xlyRCyXf7B7-px1N=s0\" style=\"width: 200px;\"/></a>"
      ],
      "text/plain": [
       "<IPython.core.display.HTML object>"
      ]
     },
     "metadata": {},
     "output_type": "display_data"
    },
    {
     "name": "stdout",
     "output_type": "stream",
     "text": [
      "Bijbellezer\n"
     ]
    },
    {
     "data": {
      "text/html": [
       "<a target=\"_new\" href=\"http://hdl.handle.net/10934/RM0001.COLLECT.130829\"><img src=\"http://lh3.ggpht.com/xR6AEskwhpf-RDKGPOA5EFLw7hcl5_8zAetghXGeGnJh7L58esZNdI1dULjIvTLc8RWz03OnZaic8sUSjAKc_r49vkzE=s0\" style=\"width: 200px;\"/></a>"
      ],
      "text/plain": [
       "<IPython.core.display.HTML object>"
      ]
     },
     "metadata": {},
     "output_type": "display_data"
    },
    {
     "name": "stdout",
     "output_type": "stream",
     "text": [
      "Lezende man\n"
     ]
    },
    {
     "data": {
      "text/html": [
       "<a target=\"_new\" href=\"http://hdl.handle.net/10934/RM0001.COLLECT.134140\"><img src=\"http://lh6.ggpht.com/B7DWwe_YMn_RPZSvNJ1o0sGRTf_UnkHZMyS6HTyud6q3JSuEuz9_t75d6nnRSh1EBISI9JXwxJzGNwhJXxVIDu09Fg=s0\" style=\"width: 200px;\"/></a>"
      ],
      "text/plain": [
       "<IPython.core.display.HTML object>"
      ]
     },
     "metadata": {},
     "output_type": "display_data"
    },
    {
     "name": "stdout",
     "output_type": "stream",
     "text": [
      "Femme lisant \"Eloyse et Abailar\"\n"
     ]
    },
    {
     "data": {
      "text/html": [
       "<a target=\"_new\" href=\"http://hdl.handle.net/10934/RM0001.COLLECT.41390\"><img src=\"http://lh6.ggpht.com/Mso4o-lprswhgYycwFmlXBC6B6KlrjdLwGYyGbn6NpA53SOzwZGvDFgHer9GKgMuNHYrlOR9qIT-eMB7vkYdvHtiDA=s0\" style=\"width: 200px;\"/></a>"
      ],
      "text/plain": [
       "<IPython.core.display.HTML object>"
      ]
     },
     "metadata": {},
     "output_type": "display_data"
    },
    {
     "name": "stdout",
     "output_type": "stream",
     "text": [
      "Drie zwanen en andere vogels bij een vijver\n"
     ]
    },
    {
     "data": {
      "text/html": [
       "<a target=\"_new\" href=\"http://hdl.handle.net/10934/RM0001.COLLECT.476221\"><img src=\"http://lh5.ggpht.com/1XmqAu1Xl1nUKdMeTVQpb89lalojO9MJR9d88FZN_FoEFRFOAgEMC_TodZ5KXotnGGDUWK0Q7RILbNChrdgylvRjdAw=s0\" style=\"width: 200px;\"/></a>"
      ],
      "text/plain": [
       "<IPython.core.display.HTML object>"
      ]
     },
     "metadata": {},
     "output_type": "display_data"
    },
    {
     "name": "stdout",
     "output_type": "stream",
     "text": [
      "Lezende oude vrouw\n"
     ]
    },
    {
     "data": {
      "text/html": [
       "<a target=\"_new\" href=\"http://hdl.handle.net/10934/RM0001.collect.98458\"><img src=\"http://lh4.ggpht.com/guQ7luXfNrDYNT_QZNZocigm8NnDMGF12H9ptvyNhkqxcOoRvPL_7_yaH7JgdEzTyQoC2fwgChEbGnVwIAvHnYNecg=s0\" style=\"width: 200px;\"/></a>"
      ],
      "text/plain": [
       "<IPython.core.display.HTML object>"
      ]
     },
     "metadata": {},
     "output_type": "display_data"
    },
    {
     "name": "stdout",
     "output_type": "stream",
     "text": [
      "Portret van een lezende man, in profiel naar links\n"
     ]
    },
    {
     "data": {
      "text/html": [
       "<a target=\"_new\" href=\"http://hdl.handle.net/10934/RM0001.collect.96382\"><img src=\"http://lh4.ggpht.com/ep07TxWVMXx_1TJoFwfb8o0NgVkNBvGUEXZY8xX_2jCIx_CNjqZ_qDs93tGF3RRV_h9Uch6OjDDNfbDQ5ALEQpb92CA=s0\" style=\"width: 200px;\"/></a>"
      ],
      "text/plain": [
       "<IPython.core.display.HTML object>"
      ]
     },
     "metadata": {},
     "output_type": "display_data"
    },
    {
     "name": "stdout",
     "output_type": "stream",
     "text": [
      "Moeder geeft haar zoon les\n"
     ]
    },
    {
     "data": {
      "text/html": [
       "<a target=\"_new\" href=\"http://hdl.handle.net/10934/RM0001.collect.96432\"><img src=\"http://lh4.ggpht.com/KiCnAbJYDbxV0IJ3Gu_AaVIxz9HUmcmGR13gZOW_lvDQFT6hRul76hUjXpBcUDcpW8Gje5nmtC-0q5h_eUJG6rM4ug=s0\" style=\"width: 200px;\"/></a>"
      ],
      "text/plain": [
       "<IPython.core.display.HTML object>"
      ]
     },
     "metadata": {},
     "output_type": "display_data"
    }
   ],
   "source": [
    "query = \"\"\"\n",
    "PREFIX dc: <http://purl.org/dc/elements/1.1/>\n",
    "PREFIX edm: <http://www.europeana.eu/schemas/edm/>\n",
    "PREFIX ore: <http://www.openarchives.org/ore/terms/>\n",
    "PREFIX html: <http://www.w3.org/1999/xhtml/vocab#>\n",
    "PREFIX skos: <http://www.w3.org/2004/02/skos/core#>\n",
    "\n",
    "SELECT ?object ?title ?created ?url ?landing\n",
    "WHERE {\n",
    "\n",
    "VALUES ?iconclass { <http://iconclass.org/49N> <http://iconclass.org/25F36> } \n",
    "\n",
    "?object ore:proxyIn ?local_aggr .\n",
    "?object ore:proxyFor ?cho .\n",
    "?eur_aggr edm:aggregatedCHO ?cho .\n",
    "?eur_aggr a edm:EuropeanaAggregation .\n",
    "\n",
    "?local_aggr edm:dataProvider 'Rijksmuseum' .\n",
    "\n",
    "?object dc:title ?title .\n",
    "?object dcterms:created ?created . \n",
    "?object dc:subject ?iconclass .\n",
    "\n",
    "?local_aggr edm:isShownBy ?url .\n",
    "?local_aggr edm:isShownAt ?landing .\n",
    "\n",
    "}\n",
    "LIMIT 30\n",
    "\"\"\"\n",
    "\n",
    "df = run_query(query)\n",
    "df = df.drop_duplicates(subset=['object.value'])\n",
    "print( f'There {df.shape[0]} objects displaying swans.' )\n",
    "\n",
    "\n",
    "for i,row in df.iterrows():\n",
    "\n",
    "    print(row['title.value'])\n",
    "    img = row['url.value']\n",
    "    url = row['landing.value']\n",
    "    display(HTML(f'<a target=\"_new\" href=\"{url}\"><img src=\"{img}\" style=\"width: 200px;\"/></a>'))\n",
    "\n"
   ]
  },
  {
   "cell_type": "markdown",
   "id": "0339f103",
   "metadata": {},
   "source": [
    "Using a similar method, we can find all the works of art that depict books. The Iconclass URI `ttp://iconclass.org/49M32` refers to books. "
   ]
  },
  {
   "cell_type": "code",
   "execution_count": 28,
   "id": "5206a632",
   "metadata": {},
   "outputs": [
    {
     "name": "stdout",
     "output_type": "stream",
     "text": [
      "20 results.\n",
      "Portret van Maria Tesselschade Roemers Visscher\n",
      "http://hdl.handle.net/10934/RM0001.collect.71732\n"
     ]
    },
    {
     "data": {
      "text/html": [
       "<a target=\"_new\" href=\"http://lh5.ggpht.com/a1d8HbxJ2OiyX81Ug7uPXaTZrIf_fXc9v0RULI6RHBB2tlot5V5Gf5fhLIBXF5zTIwmgWnnD5p4FM8OO_hrXwGAQ2dg=s0\"><img src=\"http://lh5.ggpht.com/a1d8HbxJ2OiyX81Ug7uPXaTZrIf_fXc9v0RULI6RHBB2tlot5V5Gf5fhLIBXF5zTIwmgWnnD5p4FM8OO_hrXwGAQ2dg=s0\" style=\"width: 200px;\"/></a><br/><br/>"
      ],
      "text/plain": [
       "<IPython.core.display.HTML object>"
      ]
     },
     "metadata": {},
     "output_type": "display_data"
    },
    {
     "name": "stdout",
     "output_type": "stream",
     "text": [
      "Portret van John Lee\n",
      "http://hdl.handle.net/10934/RM0001.COLLECT.44190\n"
     ]
    },
    {
     "data": {
      "text/html": [
       "<a target=\"_new\" href=\"http://lh3.ggpht.com/TZkA2fp7zKt3ObvbQCF2MktqfRjN52Xh-vFODcIC7iZcItn0LCiZlgflEB1nDFP93KJ1mxGYBhnavSuH2niW_LybFw=s0\"><img src=\"http://lh3.ggpht.com/TZkA2fp7zKt3ObvbQCF2MktqfRjN52Xh-vFODcIC7iZcItn0LCiZlgflEB1nDFP93KJ1mxGYBhnavSuH2niW_LybFw=s0\" style=\"width: 200px;\"/></a><br/><br/>"
      ],
      "text/plain": [
       "<IPython.core.display.HTML object>"
      ]
     },
     "metadata": {},
     "output_type": "display_data"
    },
    {
     "name": "stdout",
     "output_type": "stream",
     "text": [
      "Portret van de Franse chemicus Nicolas Lemery\n",
      "http://hdl.handle.net/10934/RM0001.COLLECT.348244\n"
     ]
    },
    {
     "data": {
      "text/html": [
       "<a target=\"_new\" href=\"http://lh4.ggpht.com/DfXJ8JMY6KSBjxm0upXl16SJg5RIkpqb84TXsv5aeU7TIH2vok75HrVgHAJ-2Iq1H6TFS01YhZg5geZ9Maj2OF82i5U=s0\"><img src=\"http://lh4.ggpht.com/DfXJ8JMY6KSBjxm0upXl16SJg5RIkpqb84TXsv5aeU7TIH2vok75HrVgHAJ-2Iq1H6TFS01YhZg5geZ9Maj2OF82i5U=s0\" style=\"width: 200px;\"/></a><br/><br/>"
      ],
      "text/plain": [
       "<IPython.core.display.HTML object>"
      ]
     },
     "metadata": {},
     "output_type": "display_data"
    },
    {
     "name": "stdout",
     "output_type": "stream",
     "text": [
      "Twee putti met allegorische attributen\n",
      "http://hdl.handle.net/10934/RM0001.COLLECT.190533\n"
     ]
    },
    {
     "data": {
      "text/html": [
       "<a target=\"_new\" href=\"http://lh4.ggpht.com/myFhGX50fEeej3O5v6EvhqNoraW8XjAf-RBE5DmP6eXavJzeMv8wnaDXt37w4pCNAYqCeUe6VDJEDGtZdNe_RYAwVTs=s0\"><img src=\"http://lh4.ggpht.com/myFhGX50fEeej3O5v6EvhqNoraW8XjAf-RBE5DmP6eXavJzeMv8wnaDXt37w4pCNAYqCeUe6VDJEDGtZdNe_RYAwVTs=s0\" style=\"width: 200px;\"/></a><br/><br/>"
      ],
      "text/plain": [
       "<IPython.core.display.HTML object>"
      ]
     },
     "metadata": {},
     "output_type": "display_data"
    },
    {
     "name": "stdout",
     "output_type": "stream",
     "text": [
      "Filips van Marnix, heer van Sint-Aldegonde, leest zijn Wilhelmuslied voor aan Willem I (prins van Oranje)\n",
      "http://hdl.handle.net/10934/RM0001.COLLECT.176629\n"
     ]
    },
    {
     "data": {
      "text/html": [
       "<a target=\"_new\" href=\"http://lh4.ggpht.com/eO_KKb2trcJaom67j9eKuO1XjcvzJS637fGw_L7wS37Becjg1XMSNzn7X-3DSTRJ5HFlxmH2eBRtRpBLXFBX_mf_Dw=s0\"><img src=\"http://lh4.ggpht.com/eO_KKb2trcJaom67j9eKuO1XjcvzJS637fGw_L7wS37Becjg1XMSNzn7X-3DSTRJ5HFlxmH2eBRtRpBLXFBX_mf_Dw=s0\" style=\"width: 200px;\"/></a><br/><br/>"
      ],
      "text/plain": [
       "<IPython.core.display.HTML object>"
      ]
     },
     "metadata": {},
     "output_type": "display_data"
    },
    {
     "name": "stdout",
     "output_type": "stream",
     "text": [
      "Adriaan Adriaansz. Metius in zijn studeerkamer\n",
      "http://hdl.handle.net/10934/RM0001.COLLECT.176630\n"
     ]
    },
    {
     "data": {
      "text/html": [
       "<a target=\"_new\" href=\"http://lh5.ggpht.com/9XGJiRYWary4kh53PKBkWdOT-xntJcGEB6VP7VsW10ag09kzR2Ip2q2JIz-lskJW-Ao8Ppkq2Yb2S-8sZC3q2AlYOhce=s0\"><img src=\"http://lh5.ggpht.com/9XGJiRYWary4kh53PKBkWdOT-xntJcGEB6VP7VsW10ag09kzR2Ip2q2JIz-lskJW-Ao8Ppkq2Yb2S-8sZC3q2AlYOhce=s0\" style=\"width: 200px;\"/></a><br/><br/>"
      ],
      "text/plain": [
       "<IPython.core.display.HTML object>"
      ]
     },
     "metadata": {},
     "output_type": "display_data"
    },
    {
     "name": "stdout",
     "output_type": "stream",
     "text": [
      "Portret van Isabella Clara Eugenia, ten halven lijve\n",
      "http://hdl.handle.net/10934/RM0001.COLLECT.298127\n"
     ]
    },
    {
     "data": {
      "text/html": [
       "<a target=\"_new\" href=\"http://lh3.ggpht.com/lmV4hGLF-MDrlZgk5G_kBWNn2QIR1n3Q6MpJNKv3PvJ_wgb-KvAC2dSNjqjacIdNL5rAN-DFuxk6mq9890ZtRKe4we4e=s0\"><img src=\"http://lh3.ggpht.com/lmV4hGLF-MDrlZgk5G_kBWNn2QIR1n3Q6MpJNKv3PvJ_wgb-KvAC2dSNjqjacIdNL5rAN-DFuxk6mq9890ZtRKe4we4e=s0\" style=\"width: 200px;\"/></a><br/><br/>"
      ],
      "text/plain": [
       "<IPython.core.display.HTML object>"
      ]
     },
     "metadata": {},
     "output_type": "display_data"
    },
    {
     "name": "stdout",
     "output_type": "stream",
     "text": [
      "Borstbeeld van Jacob Cats\n",
      "http://hdl.handle.net/10934/RM0001.COLLECT.158382\n"
     ]
    },
    {
     "data": {
      "text/html": [
       "<a target=\"_new\" href=\"http://lh5.ggpht.com/KNnvAp3vqxYcmsmf0Rs7ehthg-CMmni9wx68uO-eWCZS8njDFF_5P4-JRX-nlVgLxvDJCijOViC_Z5ENTLSSFxv3oiI=s0\"><img src=\"http://lh5.ggpht.com/KNnvAp3vqxYcmsmf0Rs7ehthg-CMmni9wx68uO-eWCZS8njDFF_5P4-JRX-nlVgLxvDJCijOViC_Z5ENTLSSFxv3oiI=s0\" style=\"width: 200px;\"/></a><br/><br/>"
      ],
      "text/plain": [
       "<IPython.core.display.HTML object>"
      ]
     },
     "metadata": {},
     "output_type": "display_data"
    },
    {
     "name": "stdout",
     "output_type": "stream",
     "text": [
      "Portret van de predikant Michael Hoernlein\n",
      "http://hdl.handle.net/10934/RM0001.COLLECT.44902\n"
     ]
    },
    {
     "data": {
      "text/html": [
       "<a target=\"_new\" href=\"http://lh5.ggpht.com/BU2C1xSIRyZ7SbNa6PFG51sT2CX4qq36iQM8UMlq8-L_QCzrnnBHvj6H6G_8eX-OFT5ocmA4kd42rFV7bl5iNGn7bw=s0\"><img src=\"http://lh5.ggpht.com/BU2C1xSIRyZ7SbNa6PFG51sT2CX4qq36iQM8UMlq8-L_QCzrnnBHvj6H6G_8eX-OFT5ocmA4kd42rFV7bl5iNGn7bw=s0\" style=\"width: 200px;\"/></a><br/><br/>"
      ],
      "text/plain": [
       "<IPython.core.display.HTML object>"
      ]
     },
     "metadata": {},
     "output_type": "display_data"
    },
    {
     "name": "stdout",
     "output_type": "stream",
     "text": [
      "Portret van Pieter 't Hoen\n",
      "http://hdl.handle.net/10934/RM0001.COLLECT.189001\n"
     ]
    },
    {
     "data": {
      "text/html": [
       "<a target=\"_new\" href=\"http://lh6.ggpht.com/pEo8gUoC7Zp8IijFmSM_MVXR7meMFppQyfGetzTfJHuEUprv5k9BktD1Pe2KL4xItbTAnf3PdLY6r8Uj4vqo03T3Cy4W=s0\"><img src=\"http://lh6.ggpht.com/pEo8gUoC7Zp8IijFmSM_MVXR7meMFppQyfGetzTfJHuEUprv5k9BktD1Pe2KL4xItbTAnf3PdLY6r8Uj4vqo03T3Cy4W=s0\" style=\"width: 200px;\"/></a><br/><br/>"
      ],
      "text/plain": [
       "<IPython.core.display.HTML object>"
      ]
     },
     "metadata": {},
     "output_type": "display_data"
    },
    {
     "name": "stdout",
     "output_type": "stream",
     "text": [
      "Portret van Lucretia Wilhelmina van Merken\n",
      "http://hdl.handle.net/10934/RM0001.COLLECT.189045\n"
     ]
    },
    {
     "data": {
      "text/html": [
       "<a target=\"_new\" href=\"http://lh6.ggpht.com/pMXEwIXpq-0AIKrGJAgqeyNk0e1NqHz_FSroSiOPS4r0BzDCEG3mO_LJ-soJJn_c4hK8ahlhRqVdGehUHU0sDRHWevs=s0\"><img src=\"http://lh6.ggpht.com/pMXEwIXpq-0AIKrGJAgqeyNk0e1NqHz_FSroSiOPS4r0BzDCEG3mO_LJ-soJJn_c4hK8ahlhRqVdGehUHU0sDRHWevs=s0\" style=\"width: 200px;\"/></a><br/><br/>"
      ],
      "text/plain": [
       "<IPython.core.display.HTML object>"
      ]
     },
     "metadata": {},
     "output_type": "display_data"
    },
    {
     "name": "stdout",
     "output_type": "stream",
     "text": [
      "Portret van Hendrick Laurensz. Spiegel\n",
      "http://hdl.handle.net/10934/RM0001.COLLECT.189072\n"
     ]
    },
    {
     "data": {
      "text/html": [
       "<a target=\"_new\" href=\"http://lh3.ggpht.com/dyyi5sxvVFbt4AazRKEGDtMgg7i6mMONfx-ZPdlT_jQGtOOt4ThOqYzYM5_ijbcXIvLxvqGNsFX-Ml2cnHlQokxQSg=s0\"><img src=\"http://lh3.ggpht.com/dyyi5sxvVFbt4AazRKEGDtMgg7i6mMONfx-ZPdlT_jQGtOOt4ThOqYzYM5_ijbcXIvLxvqGNsFX-Ml2cnHlQokxQSg=s0\" style=\"width: 200px;\"/></a><br/><br/>"
      ],
      "text/plain": [
       "<IPython.core.display.HTML object>"
      ]
     },
     "metadata": {},
     "output_type": "display_data"
    },
    {
     "name": "stdout",
     "output_type": "stream",
     "text": [
      "Portret van Pieter Weiland, taalkundige en remonstrants predikant\n",
      "http://hdl.handle.net/10934/RM0001.COLLECT.227944\n"
     ]
    },
    {
     "data": {
      "text/html": [
       "<a target=\"_new\" href=\"http://lh3.ggpht.com/ISlp5Yb4on8PAJoRovQj5dVfOkWueh2V1akAi_CqTKMhcguDQnlFJD_eSnWIx9SvXmu1G-zxyXKzhhC6tvmJx-lH7O0=s0\"><img src=\"http://lh3.ggpht.com/ISlp5Yb4on8PAJoRovQj5dVfOkWueh2V1akAi_CqTKMhcguDQnlFJD_eSnWIx9SvXmu1G-zxyXKzhhC6tvmJx-lH7O0=s0\" style=\"width: 200px;\"/></a><br/><br/>"
      ],
      "text/plain": [
       "<IPython.core.display.HTML object>"
      ]
     },
     "metadata": {},
     "output_type": "display_data"
    },
    {
     "name": "stdout",
     "output_type": "stream",
     "text": [
      "Maria met Christuskind\n",
      "http://hdl.handle.net/10934/RM0001.collect.331924\n"
     ]
    },
    {
     "data": {
      "text/html": [
       "<a target=\"_new\" href=\"http://lh6.ggpht.com/7mpK7k_W6L3STUEK6yYrBgESZSm12WVkaQwrgxRCMt2baYbzzVS5nc7dk9JS-OJ_7G3si3f2VkVbio-dCw7EQmWTVGg=s0\"><img src=\"http://lh6.ggpht.com/7mpK7k_W6L3STUEK6yYrBgESZSm12WVkaQwrgxRCMt2baYbzzVS5nc7dk9JS-OJ_7G3si3f2VkVbio-dCw7EQmWTVGg=s0\" style=\"width: 200px;\"/></a><br/><br/>"
      ],
      "text/plain": [
       "<IPython.core.display.HTML object>"
      ]
     },
     "metadata": {},
     "output_type": "display_data"
    },
    {
     "name": "stdout",
     "output_type": "stream",
     "text": [
      "Portret van Balthasar Bekker\n",
      "http://hdl.handle.net/10934/RM0001.COLLECT.44805\n"
     ]
    },
    {
     "data": {
      "text/html": [
       "<a target=\"_new\" href=\"http://lh3.ggpht.com/x-E3jUjxOCXLDd3XEzfo7J69MGsYBpBo1ma3NhnKD8b5v2sT4Lst1ymbLvm3vcc8fah58mPh1VDu233UtWb9i8oh7w=s0\"><img src=\"http://lh3.ggpht.com/x-E3jUjxOCXLDd3XEzfo7J69MGsYBpBo1ma3NhnKD8b5v2sT4Lst1ymbLvm3vcc8fah58mPh1VDu233UtWb9i8oh7w=s0\" style=\"width: 200px;\"/></a><br/><br/>"
      ],
      "text/plain": [
       "<IPython.core.display.HTML object>"
      ]
     },
     "metadata": {},
     "output_type": "display_data"
    },
    {
     "name": "stdout",
     "output_type": "stream",
     "text": [
      "Portret van Johannes Dolaeus\n",
      "http://hdl.handle.net/10934/RM0001.COLLECT.44855\n"
     ]
    },
    {
     "data": {
      "text/html": [
       "<a target=\"_new\" href=\"http://lh6.ggpht.com/Scg8BF8ociAmrudQNBVC5HP7zYYpihWpaCnFolr58beQgGNVJ-ynfMb8MmevkC879Tcl1tZWuKH8UpUEPc5r_IOhv9E=s0\"><img src=\"http://lh6.ggpht.com/Scg8BF8ociAmrudQNBVC5HP7zYYpihWpaCnFolr58beQgGNVJ-ynfMb8MmevkC879Tcl1tZWuKH8UpUEPc5r_IOhv9E=s0\" style=\"width: 200px;\"/></a><br/><br/>"
      ],
      "text/plain": [
       "<IPython.core.display.HTML object>"
      ]
     },
     "metadata": {},
     "output_type": "display_data"
    },
    {
     "name": "stdout",
     "output_type": "stream",
     "text": [
      "Portret van Philipp Melanchthon\n",
      "http://hdl.handle.net/10934/RM0001.COLLECT.44992\n"
     ]
    },
    {
     "data": {
      "text/html": [
       "<a target=\"_new\" href=\"http://lh5.ggpht.com/wpvNMdRhmlwRwLVzoRaRNfHvCOAp9k16k2QCNhyq3TbkYHLj08n97AAVWI5xKOjFCOvPE2Vjeo2kbtTdP2JZVr0QtA=s0\"><img src=\"http://lh5.ggpht.com/wpvNMdRhmlwRwLVzoRaRNfHvCOAp9k16k2QCNhyq3TbkYHLj08n97AAVWI5xKOjFCOvPE2Vjeo2kbtTdP2JZVr0QtA=s0\" style=\"width: 200px;\"/></a><br/><br/>"
      ],
      "text/plain": [
       "<IPython.core.display.HTML object>"
      ]
     },
     "metadata": {},
     "output_type": "display_data"
    },
    {
     "name": "stdout",
     "output_type": "stream",
     "text": [
      "Portret van Johannes van Neercassel\n",
      "http://hdl.handle.net/10934/RM0001.COLLECT.45000\n"
     ]
    },
    {
     "data": {
      "text/html": [
       "<a target=\"_new\" href=\"http://lh3.ggpht.com/HqheQ8s38FRsiQSjSO_gtgy6c_tEHpd8A091bsxexsDTGS8QU9qMe4A6vguKwjnqrkqrhkP_9V9JLIffbkJ2dLG3Cyk=s0\"><img src=\"http://lh3.ggpht.com/HqheQ8s38FRsiQSjSO_gtgy6c_tEHpd8A091bsxexsDTGS8QU9qMe4A6vguKwjnqrkqrhkP_9V9JLIffbkJ2dLG3Cyk=s0\" style=\"width: 200px;\"/></a><br/><br/>"
      ],
      "text/plain": [
       "<IPython.core.display.HTML object>"
      ]
     },
     "metadata": {},
     "output_type": "display_data"
    },
    {
     "name": "stdout",
     "output_type": "stream",
     "text": [
      "Portret van Kaspar Neumann\n",
      "http://hdl.handle.net/10934/RM0001.COLLECT.45001\n"
     ]
    },
    {
     "data": {
      "text/html": [
       "<a target=\"_new\" href=\"http://lh3.ggpht.com/CPGElS2CE5RLRdAcwFhE7LE803S7bBMCBEseAjOxy_hzgLDHCKU9l3yBbDAwoQHCtHLnZoZUWtSRUrOlVAl2PE3Q0w=s0\"><img src=\"http://lh3.ggpht.com/CPGElS2CE5RLRdAcwFhE7LE803S7bBMCBEseAjOxy_hzgLDHCKU9l3yBbDAwoQHCtHLnZoZUWtSRUrOlVAl2PE3Q0w=s0\" style=\"width: 200px;\"/></a><br/><br/>"
      ],
      "text/plain": [
       "<IPython.core.display.HTML object>"
      ]
     },
     "metadata": {},
     "output_type": "display_data"
    },
    {
     "name": "stdout",
     "output_type": "stream",
     "text": [
      "Portret van de dichter Jan Norel\n",
      "http://hdl.handle.net/10934/RM0001.COLLECT.45010\n"
     ]
    },
    {
     "data": {
      "text/html": [
       "<a target=\"_new\" href=\"http://lh3.ggpht.com/Kwkvh40ThmyN8Lp2armnxYy7u4LMYWohmMR07twZTB5RlEuwgSEZwO3G0VY9NUIkEdVuKAuvlznGH_oBnbxbUVIlBg=s0\"><img src=\"http://lh3.ggpht.com/Kwkvh40ThmyN8Lp2armnxYy7u4LMYWohmMR07twZTB5RlEuwgSEZwO3G0VY9NUIkEdVuKAuvlznGH_oBnbxbUVIlBg=s0\" style=\"width: 200px;\"/></a><br/><br/>"
      ],
      "text/plain": [
       "<IPython.core.display.HTML object>"
      ]
     },
     "metadata": {},
     "output_type": "display_data"
    }
   ],
   "source": [
    "query = \"\"\"\n",
    "PREFIX dc: <http://purl.org/dc/elements/1.1/>\n",
    "PREFIX edm: <http://www.europeana.eu/schemas/edm/>\n",
    "PREFIX ore: <http://www.openarchives.org/ore/terms/>\n",
    "PREFIX html: <http://www.w3.org/1999/xhtml/vocab#>\n",
    "PREFIX skos: <http://www.w3.org/2004/02/skos/core#>\n",
    "\n",
    "SELECT ?object ?title ?url ?landing\n",
    "WHERE {\n",
    "\n",
    "?object ore:proxyIn ?local_aggr .\n",
    "?object ore:proxyFor ?cho .\n",
    "?eur_aggr edm:aggregatedCHO ?cho .\n",
    "?eur_aggr a edm:EuropeanaAggregation .\n",
    "\n",
    "?local_aggr edm:dataProvider 'Rijksmuseum' .\n",
    "\n",
    "?object dc:title ?title .\n",
    "?object dc:subject <http://iconclass.org/49M32> .\n",
    "\n",
    "?local_aggr edm:isShownBy ?url .\n",
    "?local_aggr edm:isShownAt ?landing .\n",
    "\n",
    "}\n",
    "LIMIT 20\n",
    "\n",
    "\"\"\"\n",
    "\n",
    "subjects_df = run_query(query)\n",
    "print( f'{subjects_df.shape[0]} results.' )\n",
    "\n",
    "\n",
    "for i,row in subjects_df.iterrows():\n",
    "    print( row['title.value'] )\n",
    "    print( row['landing.value'] )\n",
    "    img = row['url.value']\n",
    "    \n",
    "    display(HTML(f'<a target=\"_new\" href=\"{img}\"><img src=\"{img}\" style=\"width: 200px;\"/></a><br/><br/>'))\n"
   ]
  },
  {
   "cell_type": "markdown",
   "id": "06dde852",
   "metadata": {},
   "source": [
    "The query below request information about the Iconclass subjects that have been assignment most frequently. "
   ]
  },
  {
   "cell_type": "code",
   "execution_count": 30,
   "id": "feafb67e",
   "metadata": {},
   "outputs": [
    {
     "name": "stdout",
     "output_type": "stream",
     "text": [
      "fashion plates\t4680\n",
      "village street\t4259\n",
      "saddle and bridle (saddlery)\t3817\n",
      "canals, waters (in village)\t3605\n",
      "historical persons\t2778\n",
      "dog with bone\t2447\n",
      "parts of church exterior and annexes\t2327\n",
      "parts of sailing-ship's rigging\t2219\n",
      "farm (building)\t2123\n",
      "sleeping Cupid; possibly signifying a slackening of Love's influence\t2065\n",
      "pedestal of a piece of sculpture (perhaps in the form of a herm)\t2052\n",
      "lake\t2041\n",
      "lying figure\t1895\n",
      "she-goat, nanny-goat\t1856\n",
      "glade, 'Lichtung im Wald'\t1762\n"
     ]
    }
   ],
   "source": [
    "\n",
    "query = \"\"\"\n",
    "PREFIX dc: <http://purl.org/dc/elements/1.1/>\n",
    "PREFIX edm: <http://www.europeana.eu/schemas/edm/>\n",
    "PREFIX ore: <http://www.openarchives.org/ore/terms/>\n",
    "PREFIX html: <http://www.w3.org/1999/xhtml/vocab#>\n",
    "PREFIX skos: <http://www.w3.org/2004/02/skos/core#>\n",
    "\n",
    "SELECT ?label, COUNT( DISTINCT ?object )\n",
    "WHERE {\n",
    "\n",
    "?object ore:proxyIn ?local_aggr .\n",
    "?object ore:proxyFor ?cho .\n",
    "?eur_aggr edm:aggregatedCHO ?cho .\n",
    "?eur_aggr a edm:EuropeanaAggregation .\n",
    "\n",
    "?local_aggr edm:dataProvider 'Rijksmuseum' .\n",
    "?object dc:subject ?subject .\n",
    "?subject skos:prefLabel ?label .\n",
    "FILTER(regex(?subject, 'iconclass' ))\n",
    "FILTER(lang(?label) = 'en')\n",
    "}\n",
    "GROUP BY ?label \n",
    "\n",
    "\"\"\"\n",
    "\n",
    "subjects_df = run_query(query)\n",
    "\n",
    "subjects_df['callret-1.value'] = subjects_df['callret-1.value'].astype(int)\n",
    "subjects_df  = subjects_df.sort_values(by=['callret-1.value'] , ascending = False )\n",
    "\n",
    "for i,row in subjects_df.iloc[:15].iterrows():\n",
    "    print( f\"{row['label.value']}\\t{row['callret-1.value']}\" )"
   ]
  },
  {
   "cell_type": "markdown",
   "id": "dbe982e2",
   "metadata": {},
   "source": [
    "In this overview, we can see that the collection contains many panoramas or silhouettes of cities. These objects have been described with iconclass URI `http://iconclass.org/25I12`.\n",
    "\n",
    "The query below firstly selects all of these works. For each of these works, it also gathers the date of creation. "
   ]
  },
  {
   "cell_type": "code",
   "execution_count": 38,
   "id": "f10bb1d8",
   "metadata": {},
   "outputs": [
    {
     "name": "stdout",
     "output_type": "stream",
     "text": [
      "There are 590 works of art depicting the act of reading.\n"
     ]
    }
   ],
   "source": [
    "query = \"\"\"\n",
    "PREFIX dc: <http://purl.org/dc/elements/1.1/>\n",
    "PREFIX edm: <http://www.europeana.eu/schemas/edm/>\n",
    "PREFIX ore: <http://www.openarchives.org/ore/terms/>\n",
    "PREFIX html: <http://www.w3.org/1999/xhtml/vocab#>\n",
    "PREFIX skos: <http://www.w3.org/2004/02/skos/core#>\n",
    "\n",
    "SELECT *\n",
    "WHERE {\n",
    "?object ore:proxyIn ?local_aggr .\n",
    "?object ore:proxyFor ?cho .\n",
    "?eur_aggr edm:aggregatedCHO ?cho .\n",
    "?eur_aggr a edm:EuropeanaAggregation .\n",
    "\n",
    "?local_aggr edm:dataProvider 'Rijksmuseum' .\n",
    "\n",
    "?object dc:subject ?value .\n",
    "\n",
    "FILTER(?value IN (<http://iconclass.org/49N>,<http://iconclass.org/49N1>,<http://iconclass.org/49N2>,<http://iconclass.org/49N3>))\n",
    "?object dcterms:created ?created . \n",
    "}\n",
    "\"\"\"\n",
    "\n",
    "df = run_query(query)\n",
    "df = df.drop_duplicates(subset=['object.value'])\n",
    "print( f\"There are {df.shape[0]} works of art depicting the act of reading.\" )"
   ]
  },
  {
   "cell_type": "markdown",
   "id": "408ca1b9",
   "metadata": {},
   "source": [
    "When were these works of art produced?"
   ]
  },
  {
   "cell_type": "code",
   "execution_count": 32,
   "id": "ca8e5ada",
   "metadata": {},
   "outputs": [],
   "source": [
    "dates = []\n",
    "\n",
    "def standardise_date(date):\n",
    "    date = re.sub( r'\\D' , '' , date )\n",
    "    date = date.strip()\n",
    "    return int(date.strip())\n",
    "\n",
    "for i,row in df.iterrows():\n",
    "    date = row['created.value']\n",
    "    \n",
    "    if re.search( r'-' , date ):\n",
    "        \n",
    "        parts = re.split( r'-' , date )\n",
    "        nr1 = standardise_date(parts[0])\n",
    "        nr2 = standardise_date(parts[1])\n",
    "\n",
    "        if re.search( r'\\d{4}' , str(nr1)) and re.search( r'\\d{4}' , str(nr2)):\n",
    "            mean_date = round((nr1+nr2)/2)\n",
    "            dates.append(mean_date)\n",
    "            \n",
    "    else:\n",
    "        dates.append(standardise_date(date))\n",
    "        \n",
    "dates_freq = dict()\n",
    "for year in dates:\n",
    "    dates_freq[year] = dates_freq.get(year,0)+1\n",
    "        "
   ]
  },
  {
   "cell_type": "code",
   "execution_count": 40,
   "id": "f5f53013",
   "metadata": {},
   "outputs": [
    {
     "data": {
      "image/png": "[encoded data removed]",
      "text/plain": [
       "<Figure size 720x360 with 1 Axes>"
      ]
     },
     "metadata": {
      "needs_background": "light"
     },
     "output_type": "display_data"
    }
   ],
   "source": [
    "import matplotlib.pyplot as plt\n",
    "import seaborn as sns\n",
    "\n",
    "\n",
    "plt.figure( figsize = ( 10,5 ) )\n",
    "\n",
    "graph = sns.lineplot( x= dates_freq.keys() , y= dates_freq.values() , color = '#131875' )\n",
    "\n",
    "\n",
    "graph.set_xlabel('Years' , size = 16 )\n",
    "graph.set_ylabel('Number of objects' , size = 16 )\n",
    "graph.set_title( 'Works of art depicting reading' , size = 22 )\n",
    "\n",
    "\n",
    "plt.show()"
   ]
  },
  {
   "cell_type": "code",
   "execution_count": null,
   "id": "958ce7b7",
   "metadata": {},
   "outputs": [],
   "source": []
  }
 ],
 "metadata": {
  "kernelspec": {
   "display_name": "Python 3 (ipykernel)",
   "language": "python",
   "name": "python3"
  },
  "language_info": {
   "codemirror_mode": {
    "name": "ipython",
    "version": 3
   },
   "file_extension": ".py",
   "mimetype": "text/x-python",
   "name": "python",
   "nbconvert_exporter": "python",
   "pygments_lexer": "ipython3",
   "version": "3.7.9"
  }
 },
 "nbformat": 4,
 "nbformat_minor": 5
}
